{
  "cells": [
    {
      "cell_type": "code",
      "execution_count": null,
      "metadata": {
        "id": "tOg9-5iWc0sP"
      },
      "outputs": [],
      "source": [
        "import pandas as pd\n",
        "import numpy as np\n",
        "import seaborn as sns"
      ]
    },
    {
      "cell_type": "code",
      "execution_count": null,
      "metadata": {
        "id": "9xf4bHjNeaFZ"
      },
      "outputs": [],
      "source": [
        "df=pd.read_csv(\"/content/drive/MyDrive/Colab Notebooks/application_data.csv\")"
      ]
    },
    {
      "cell_type": "code",
      "execution_count": null,
      "metadata": {
        "colab": {
          "base_uri": "https://localhost:8080/",
          "height": 488
        },
        "id": "jwsfc5pfoDfV",
        "outputId": "7e089ee0-fbe2-409b-9eef-2ad6594ed953"
      },
      "outputs": [
        {
          "output_type": "execute_result",
          "data": {
            "text/plain": [
              "        SK_ID_CURR  TARGET NAME_CONTRACT_TYPE CODE_GENDER FLAG_OWN_CAR  \\\n",
              "0           100002       1         Cash loans           M            N   \n",
              "1           100003       0         Cash loans           F            N   \n",
              "2           100004       0    Revolving loans           M            Y   \n",
              "3           100006       0         Cash loans           F            N   \n",
              "4           100007       0         Cash loans           M            N   \n",
              "...            ...     ...                ...         ...          ...   \n",
              "307506      456251       0         Cash loans           M            N   \n",
              "307507      456252       0         Cash loans           F            N   \n",
              "307508      456253       0         Cash loans           F            N   \n",
              "307509      456254       1         Cash loans           F            N   \n",
              "307510      456255       0         Cash loans           F            N   \n",
              "\n",
              "       FLAG_OWN_REALTY  CNT_CHILDREN  AMT_INCOME_TOTAL  AMT_CREDIT  \\\n",
              "0                    Y             0          202500.0    406597.5   \n",
              "1                    N             0          270000.0   1293502.5   \n",
              "2                    Y             0           67500.0    135000.0   \n",
              "3                    Y             0          135000.0    312682.5   \n",
              "4                    Y             0          121500.0    513000.0   \n",
              "...                ...           ...               ...         ...   \n",
              "307506               N             0          157500.0    254700.0   \n",
              "307507               Y             0           72000.0    269550.0   \n",
              "307508               Y             0          153000.0    677664.0   \n",
              "307509               Y             0          171000.0    370107.0   \n",
              "307510               N             0          157500.0    675000.0   \n",
              "\n",
              "        AMT_ANNUITY  ...  FLAG_DOCUMENT_18 FLAG_DOCUMENT_19 FLAG_DOCUMENT_20  \\\n",
              "0           24700.5  ...                 0                0                0   \n",
              "1           35698.5  ...                 0                0                0   \n",
              "2            6750.0  ...                 0                0                0   \n",
              "3           29686.5  ...                 0                0                0   \n",
              "4           21865.5  ...                 0                0                0   \n",
              "...             ...  ...               ...              ...              ...   \n",
              "307506      27558.0  ...                 0                0                0   \n",
              "307507      12001.5  ...                 0                0                0   \n",
              "307508      29979.0  ...                 0                0                0   \n",
              "307509      20205.0  ...                 0                0                0   \n",
              "307510      49117.5  ...                 0                0                0   \n",
              "\n",
              "       FLAG_DOCUMENT_21 AMT_REQ_CREDIT_BUREAU_HOUR AMT_REQ_CREDIT_BUREAU_DAY  \\\n",
              "0                     0                        0.0                       0.0   \n",
              "1                     0                        0.0                       0.0   \n",
              "2                     0                        0.0                       0.0   \n",
              "3                     0                        NaN                       NaN   \n",
              "4                     0                        0.0                       0.0   \n",
              "...                 ...                        ...                       ...   \n",
              "307506                0                        NaN                       NaN   \n",
              "307507                0                        NaN                       NaN   \n",
              "307508                0                        1.0                       0.0   \n",
              "307509                0                        0.0                       0.0   \n",
              "307510                0                        0.0                       0.0   \n",
              "\n",
              "        AMT_REQ_CREDIT_BUREAU_WEEK  AMT_REQ_CREDIT_BUREAU_MON  \\\n",
              "0                              0.0                        0.0   \n",
              "1                              0.0                        0.0   \n",
              "2                              0.0                        0.0   \n",
              "3                              NaN                        NaN   \n",
              "4                              0.0                        0.0   \n",
              "...                            ...                        ...   \n",
              "307506                         NaN                        NaN   \n",
              "307507                         NaN                        NaN   \n",
              "307508                         0.0                        1.0   \n",
              "307509                         0.0                        0.0   \n",
              "307510                         0.0                        2.0   \n",
              "\n",
              "        AMT_REQ_CREDIT_BUREAU_QRT  AMT_REQ_CREDIT_BUREAU_YEAR  \n",
              "0                             0.0                         1.0  \n",
              "1                             0.0                         0.0  \n",
              "2                             0.0                         0.0  \n",
              "3                             NaN                         NaN  \n",
              "4                             0.0                         0.0  \n",
              "...                           ...                         ...  \n",
              "307506                        NaN                         NaN  \n",
              "307507                        NaN                         NaN  \n",
              "307508                        0.0                         1.0  \n",
              "307509                        0.0                         0.0  \n",
              "307510                        0.0                         1.0  \n",
              "\n",
              "[307511 rows x 122 columns]"
            ],
            "text/html": [
              "\n",
              "  <div id=\"df-4515d237-3264-4d56-8778-2f312685c03c\">\n",
              "    <div class=\"colab-df-container\">\n",
              "      <div>\n",
              "<style scoped>\n",
              "    .dataframe tbody tr th:only-of-type {\n",
              "        vertical-align: middle;\n",
              "    }\n",
              "\n",
              "    .dataframe tbody tr th {\n",
              "        vertical-align: top;\n",
              "    }\n",
              "\n",
              "    .dataframe thead th {\n",
              "        text-align: right;\n",
              "    }\n",
              "</style>\n",
              "<table border=\"1\" class=\"dataframe\">\n",
              "  <thead>\n",
              "    <tr style=\"text-align: right;\">\n",
              "      <th></th>\n",
              "      <th>SK_ID_CURR</th>\n",
              "      <th>TARGET</th>\n",
              "      <th>NAME_CONTRACT_TYPE</th>\n",
              "      <th>CODE_GENDER</th>\n",
              "      <th>FLAG_OWN_CAR</th>\n",
              "      <th>FLAG_OWN_REALTY</th>\n",
              "      <th>CNT_CHILDREN</th>\n",
              "      <th>AMT_INCOME_TOTAL</th>\n",
              "      <th>AMT_CREDIT</th>\n",
              "      <th>AMT_ANNUITY</th>\n",
              "      <th>...</th>\n",
              "      <th>FLAG_DOCUMENT_18</th>\n",
              "      <th>FLAG_DOCUMENT_19</th>\n",
              "      <th>FLAG_DOCUMENT_20</th>\n",
              "      <th>FLAG_DOCUMENT_21</th>\n",
              "      <th>AMT_REQ_CREDIT_BUREAU_HOUR</th>\n",
              "      <th>AMT_REQ_CREDIT_BUREAU_DAY</th>\n",
              "      <th>AMT_REQ_CREDIT_BUREAU_WEEK</th>\n",
              "      <th>AMT_REQ_CREDIT_BUREAU_MON</th>\n",
              "      <th>AMT_REQ_CREDIT_BUREAU_QRT</th>\n",
              "      <th>AMT_REQ_CREDIT_BUREAU_YEAR</th>\n",
              "    </tr>\n",
              "  </thead>\n",
              "  <tbody>\n",
              "    <tr>\n",
              "      <th>0</th>\n",
              "      <td>100002</td>\n",
              "      <td>1</td>\n",
              "      <td>Cash loans</td>\n",
              "      <td>M</td>\n",
              "      <td>N</td>\n",
              "      <td>Y</td>\n",
              "      <td>0</td>\n",
              "      <td>202500.0</td>\n",
              "      <td>406597.5</td>\n",
              "      <td>24700.5</td>\n",
              "      <td>...</td>\n",
              "      <td>0</td>\n",
              "      <td>0</td>\n",
              "      <td>0</td>\n",
              "      <td>0</td>\n",
              "      <td>0.0</td>\n",
              "      <td>0.0</td>\n",
              "      <td>0.0</td>\n",
              "      <td>0.0</td>\n",
              "      <td>0.0</td>\n",
              "      <td>1.0</td>\n",
              "    </tr>\n",
              "    <tr>\n",
              "      <th>1</th>\n",
              "      <td>100003</td>\n",
              "      <td>0</td>\n",
              "      <td>Cash loans</td>\n",
              "      <td>F</td>\n",
              "      <td>N</td>\n",
              "      <td>N</td>\n",
              "      <td>0</td>\n",
              "      <td>270000.0</td>\n",
              "      <td>1293502.5</td>\n",
              "      <td>35698.5</td>\n",
              "      <td>...</td>\n",
              "      <td>0</td>\n",
              "      <td>0</td>\n",
              "      <td>0</td>\n",
              "      <td>0</td>\n",
              "      <td>0.0</td>\n",
              "      <td>0.0</td>\n",
              "      <td>0.0</td>\n",
              "      <td>0.0</td>\n",
              "      <td>0.0</td>\n",
              "      <td>0.0</td>\n",
              "    </tr>\n",
              "    <tr>\n",
              "      <th>2</th>\n",
              "      <td>100004</td>\n",
              "      <td>0</td>\n",
              "      <td>Revolving loans</td>\n",
              "      <td>M</td>\n",
              "      <td>Y</td>\n",
              "      <td>Y</td>\n",
              "      <td>0</td>\n",
              "      <td>67500.0</td>\n",
              "      <td>135000.0</td>\n",
              "      <td>6750.0</td>\n",
              "      <td>...</td>\n",
              "      <td>0</td>\n",
              "      <td>0</td>\n",
              "      <td>0</td>\n",
              "      <td>0</td>\n",
              "      <td>0.0</td>\n",
              "      <td>0.0</td>\n",
              "      <td>0.0</td>\n",
              "      <td>0.0</td>\n",
              "      <td>0.0</td>\n",
              "      <td>0.0</td>\n",
              "    </tr>\n",
              "    <tr>\n",
              "      <th>3</th>\n",
              "      <td>100006</td>\n",
              "      <td>0</td>\n",
              "      <td>Cash loans</td>\n",
              "      <td>F</td>\n",
              "      <td>N</td>\n",
              "      <td>Y</td>\n",
              "      <td>0</td>\n",
              "      <td>135000.0</td>\n",
              "      <td>312682.5</td>\n",
              "      <td>29686.5</td>\n",
              "      <td>...</td>\n",
              "      <td>0</td>\n",
              "      <td>0</td>\n",
              "      <td>0</td>\n",
              "      <td>0</td>\n",
              "      <td>NaN</td>\n",
              "      <td>NaN</td>\n",
              "      <td>NaN</td>\n",
              "      <td>NaN</td>\n",
              "      <td>NaN</td>\n",
              "      <td>NaN</td>\n",
              "    </tr>\n",
              "    <tr>\n",
              "      <th>4</th>\n",
              "      <td>100007</td>\n",
              "      <td>0</td>\n",
              "      <td>Cash loans</td>\n",
              "      <td>M</td>\n",
              "      <td>N</td>\n",
              "      <td>Y</td>\n",
              "      <td>0</td>\n",
              "      <td>121500.0</td>\n",
              "      <td>513000.0</td>\n",
              "      <td>21865.5</td>\n",
              "      <td>...</td>\n",
              "      <td>0</td>\n",
              "      <td>0</td>\n",
              "      <td>0</td>\n",
              "      <td>0</td>\n",
              "      <td>0.0</td>\n",
              "      <td>0.0</td>\n",
              "      <td>0.0</td>\n",
              "      <td>0.0</td>\n",
              "      <td>0.0</td>\n",
              "      <td>0.0</td>\n",
              "    </tr>\n",
              "    <tr>\n",
              "      <th>...</th>\n",
              "      <td>...</td>\n",
              "      <td>...</td>\n",
              "      <td>...</td>\n",
              "      <td>...</td>\n",
              "      <td>...</td>\n",
              "      <td>...</td>\n",
              "      <td>...</td>\n",
              "      <td>...</td>\n",
              "      <td>...</td>\n",
              "      <td>...</td>\n",
              "      <td>...</td>\n",
              "      <td>...</td>\n",
              "      <td>...</td>\n",
              "      <td>...</td>\n",
              "      <td>...</td>\n",
              "      <td>...</td>\n",
              "      <td>...</td>\n",
              "      <td>...</td>\n",
              "      <td>...</td>\n",
              "      <td>...</td>\n",
              "      <td>...</td>\n",
              "    </tr>\n",
              "    <tr>\n",
              "      <th>307506</th>\n",
              "      <td>456251</td>\n",
              "      <td>0</td>\n",
              "      <td>Cash loans</td>\n",
              "      <td>M</td>\n",
              "      <td>N</td>\n",
              "      <td>N</td>\n",
              "      <td>0</td>\n",
              "      <td>157500.0</td>\n",
              "      <td>254700.0</td>\n",
              "      <td>27558.0</td>\n",
              "      <td>...</td>\n",
              "      <td>0</td>\n",
              "      <td>0</td>\n",
              "      <td>0</td>\n",
              "      <td>0</td>\n",
              "      <td>NaN</td>\n",
              "      <td>NaN</td>\n",
              "      <td>NaN</td>\n",
              "      <td>NaN</td>\n",
              "      <td>NaN</td>\n",
              "      <td>NaN</td>\n",
              "    </tr>\n",
              "    <tr>\n",
              "      <th>307507</th>\n",
              "      <td>456252</td>\n",
              "      <td>0</td>\n",
              "      <td>Cash loans</td>\n",
              "      <td>F</td>\n",
              "      <td>N</td>\n",
              "      <td>Y</td>\n",
              "      <td>0</td>\n",
              "      <td>72000.0</td>\n",
              "      <td>269550.0</td>\n",
              "      <td>12001.5</td>\n",
              "      <td>...</td>\n",
              "      <td>0</td>\n",
              "      <td>0</td>\n",
              "      <td>0</td>\n",
              "      <td>0</td>\n",
              "      <td>NaN</td>\n",
              "      <td>NaN</td>\n",
              "      <td>NaN</td>\n",
              "      <td>NaN</td>\n",
              "      <td>NaN</td>\n",
              "      <td>NaN</td>\n",
              "    </tr>\n",
              "    <tr>\n",
              "      <th>307508</th>\n",
              "      <td>456253</td>\n",
              "      <td>0</td>\n",
              "      <td>Cash loans</td>\n",
              "      <td>F</td>\n",
              "      <td>N</td>\n",
              "      <td>Y</td>\n",
              "      <td>0</td>\n",
              "      <td>153000.0</td>\n",
              "      <td>677664.0</td>\n",
              "      <td>29979.0</td>\n",
              "      <td>...</td>\n",
              "      <td>0</td>\n",
              "      <td>0</td>\n",
              "      <td>0</td>\n",
              "      <td>0</td>\n",
              "      <td>1.0</td>\n",
              "      <td>0.0</td>\n",
              "      <td>0.0</td>\n",
              "      <td>1.0</td>\n",
              "      <td>0.0</td>\n",
              "      <td>1.0</td>\n",
              "    </tr>\n",
              "    <tr>\n",
              "      <th>307509</th>\n",
              "      <td>456254</td>\n",
              "      <td>1</td>\n",
              "      <td>Cash loans</td>\n",
              "      <td>F</td>\n",
              "      <td>N</td>\n",
              "      <td>Y</td>\n",
              "      <td>0</td>\n",
              "      <td>171000.0</td>\n",
              "      <td>370107.0</td>\n",
              "      <td>20205.0</td>\n",
              "      <td>...</td>\n",
              "      <td>0</td>\n",
              "      <td>0</td>\n",
              "      <td>0</td>\n",
              "      <td>0</td>\n",
              "      <td>0.0</td>\n",
              "      <td>0.0</td>\n",
              "      <td>0.0</td>\n",
              "      <td>0.0</td>\n",
              "      <td>0.0</td>\n",
              "      <td>0.0</td>\n",
              "    </tr>\n",
              "    <tr>\n",
              "      <th>307510</th>\n",
              "      <td>456255</td>\n",
              "      <td>0</td>\n",
              "      <td>Cash loans</td>\n",
              "      <td>F</td>\n",
              "      <td>N</td>\n",
              "      <td>N</td>\n",
              "      <td>0</td>\n",
              "      <td>157500.0</td>\n",
              "      <td>675000.0</td>\n",
              "      <td>49117.5</td>\n",
              "      <td>...</td>\n",
              "      <td>0</td>\n",
              "      <td>0</td>\n",
              "      <td>0</td>\n",
              "      <td>0</td>\n",
              "      <td>0.0</td>\n",
              "      <td>0.0</td>\n",
              "      <td>0.0</td>\n",
              "      <td>2.0</td>\n",
              "      <td>0.0</td>\n",
              "      <td>1.0</td>\n",
              "    </tr>\n",
              "  </tbody>\n",
              "</table>\n",
              "<p>307511 rows × 122 columns</p>\n",
              "</div>\n",
              "      <button class=\"colab-df-convert\" onclick=\"convertToInteractive('df-4515d237-3264-4d56-8778-2f312685c03c')\"\n",
              "              title=\"Convert this dataframe to an interactive table.\"\n",
              "              style=\"display:none;\">\n",
              "        \n",
              "  <svg xmlns=\"http://www.w3.org/2000/svg\" height=\"24px\"viewBox=\"0 0 24 24\"\n",
              "       width=\"24px\">\n",
              "    <path d=\"M0 0h24v24H0V0z\" fill=\"none\"/>\n",
              "    <path d=\"M18.56 5.44l.94 2.06.94-2.06 2.06-.94-2.06-.94-.94-2.06-.94 2.06-2.06.94zm-11 1L8.5 8.5l.94-2.06 2.06-.94-2.06-.94L8.5 2.5l-.94 2.06-2.06.94zm10 10l.94 2.06.94-2.06 2.06-.94-2.06-.94-.94-2.06-.94 2.06-2.06.94z\"/><path d=\"M17.41 7.96l-1.37-1.37c-.4-.4-.92-.59-1.43-.59-.52 0-1.04.2-1.43.59L10.3 9.45l-7.72 7.72c-.78.78-.78 2.05 0 2.83L4 21.41c.39.39.9.59 1.41.59.51 0 1.02-.2 1.41-.59l7.78-7.78 2.81-2.81c.8-.78.8-2.07 0-2.86zM5.41 20L4 18.59l7.72-7.72 1.47 1.35L5.41 20z\"/>\n",
              "  </svg>\n",
              "      </button>\n",
              "      \n",
              "  <style>\n",
              "    .colab-df-container {\n",
              "      display:flex;\n",
              "      flex-wrap:wrap;\n",
              "      gap: 12px;\n",
              "    }\n",
              "\n",
              "    .colab-df-convert {\n",
              "      background-color: #E8F0FE;\n",
              "      border: none;\n",
              "      border-radius: 50%;\n",
              "      cursor: pointer;\n",
              "      display: none;\n",
              "      fill: #1967D2;\n",
              "      height: 32px;\n",
              "      padding: 0 0 0 0;\n",
              "      width: 32px;\n",
              "    }\n",
              "\n",
              "    .colab-df-convert:hover {\n",
              "      background-color: #E2EBFA;\n",
              "      box-shadow: 0px 1px 2px rgba(60, 64, 67, 0.3), 0px 1px 3px 1px rgba(60, 64, 67, 0.15);\n",
              "      fill: #174EA6;\n",
              "    }\n",
              "\n",
              "    [theme=dark] .colab-df-convert {\n",
              "      background-color: #3B4455;\n",
              "      fill: #D2E3FC;\n",
              "    }\n",
              "\n",
              "    [theme=dark] .colab-df-convert:hover {\n",
              "      background-color: #434B5C;\n",
              "      box-shadow: 0px 1px 3px 1px rgba(0, 0, 0, 0.15);\n",
              "      filter: drop-shadow(0px 1px 2px rgba(0, 0, 0, 0.3));\n",
              "      fill: #FFFFFF;\n",
              "    }\n",
              "  </style>\n",
              "\n",
              "      <script>\n",
              "        const buttonEl =\n",
              "          document.querySelector('#df-4515d237-3264-4d56-8778-2f312685c03c button.colab-df-convert');\n",
              "        buttonEl.style.display =\n",
              "          google.colab.kernel.accessAllowed ? 'block' : 'none';\n",
              "\n",
              "        async function convertToInteractive(key) {\n",
              "          const element = document.querySelector('#df-4515d237-3264-4d56-8778-2f312685c03c');\n",
              "          const dataTable =\n",
              "            await google.colab.kernel.invokeFunction('convertToInteractive',\n",
              "                                                     [key], {});\n",
              "          if (!dataTable) return;\n",
              "\n",
              "          const docLinkHtml = 'Like what you see? Visit the ' +\n",
              "            '<a target=\"_blank\" href=https://colab.research.google.com/notebooks/data_table.ipynb>data table notebook</a>'\n",
              "            + ' to learn more about interactive tables.';\n",
              "          element.innerHTML = '';\n",
              "          dataTable['output_type'] = 'display_data';\n",
              "          await google.colab.output.renderOutput(dataTable, element);\n",
              "          const docLink = document.createElement('div');\n",
              "          docLink.innerHTML = docLinkHtml;\n",
              "          element.appendChild(docLink);\n",
              "        }\n",
              "      </script>\n",
              "    </div>\n",
              "  </div>\n",
              "  "
            ]
          },
          "metadata": {},
          "execution_count": 3
        }
      ],
      "source": [
        "df"
      ]
    },
    {
      "cell_type": "code",
      "execution_count": null,
      "metadata": {
        "colab": {
          "base_uri": "https://localhost:8080/"
        },
        "id": "epY2dCH4oILT",
        "outputId": "49c519e2-1662-456a-ae7c-624bb80232ca"
      },
      "outputs": [
        {
          "output_type": "stream",
          "name": "stdout",
          "text": [
            "<class 'pandas.core.frame.DataFrame'>\n",
            "RangeIndex: 307511 entries, 0 to 307510\n",
            "Columns: 122 entries, SK_ID_CURR to AMT_REQ_CREDIT_BUREAU_YEAR\n",
            "dtypes: float64(65), int64(41), object(16)\n",
            "memory usage: 286.2+ MB\n"
          ]
        }
      ],
      "source": [
        "df.info()"
      ]
    },
    {
      "cell_type": "code",
      "execution_count": null,
      "metadata": {
        "id": "GlPNJBQmx3DI"
      },
      "outputs": [],
      "source": [
        "df[\"credit beauru\"]=df['AMT_REQ_CREDIT_BUREAU_HOUR']+df['AMT_REQ_CREDIT_BUREAU_DAY'] +df['AMT_REQ_CREDIT_BUREAU_WEEK']+df['AMT_REQ_CREDIT_BUREAU_MON']+df['AMT_REQ_CREDIT_BUREAU_QRT']"
      ]
    },
    {
      "cell_type": "code",
      "execution_count": null,
      "metadata": {
        "id": "y7FW1RYnxD3C"
      },
      "outputs": [],
      "source": [
        "df.drop(['FONDKAPREMONT_MODE', 'HOUSETYPE_MODE',\n",
        "       'WALLSMATERIAL_MODE', 'EMERGENCYSTATE_MODE', 'OBS_30_CNT_SOCIAL_CIRCLE',\n",
        "       'DEF_30_CNT_SOCIAL_CIRCLE', 'OBS_60_CNT_SOCIAL_CIRCLE',\n",
        "       'DEF_60_CNT_SOCIAL_CIRCLE', 'FLAG_DOCUMENT_2',\n",
        "       'FLAG_DOCUMENT_3', 'FLAG_DOCUMENT_4', 'FLAG_DOCUMENT_5',\n",
        "       'FLAG_DOCUMENT_6', 'FLAG_DOCUMENT_7', 'FLAG_DOCUMENT_8',\n",
        "       'FLAG_DOCUMENT_9', 'FLAG_DOCUMENT_10', 'FLAG_DOCUMENT_11',\n",
        "       'FLAG_DOCUMENT_12', 'FLAG_DOCUMENT_13', 'FLAG_DOCUMENT_14',\n",
        "       'FLAG_DOCUMENT_15', 'FLAG_DOCUMENT_16', 'FLAG_DOCUMENT_17',\n",
        "       'FLAG_DOCUMENT_18', 'FLAG_DOCUMENT_19', 'FLAG_DOCUMENT_20',\n",
        "       'FLAG_DOCUMENT_21', 'AMT_REQ_CREDIT_BUREAU_HOUR','AMT_REQ_CREDIT_BUREAU_DAY', 'AMT_REQ_CREDIT_BUREAU_WEEK',\n",
        "       'AMT_REQ_CREDIT_BUREAU_MON', 'AMT_REQ_CREDIT_BUREAU_QRT',\n",
        "'AMT_REQ_CREDIT_BUREAU_YEAR'],axis=1,inplace=True)"
      ]
    },
    {
      "cell_type": "code",
      "execution_count": null,
      "metadata": {
        "id": "A7drEj0S2wz2"
      },
      "outputs": [],
      "source": [
        "df.drop([\"REGION_POPULATION_RELATIVE\",\"DAYS_BIRTH\",\"DAYS_EMPLOYED\",\"OWN_CAR_AGE\",\"FLAG_EMAIL\",\"REGION_RATING_CLIENT\",\n",
        "         \"REGION_RATING_CLIENT_W_CITY\",\"NAME_TYPE_SUITE\",\"REG_CITY_NOT_LIVE_CITY\",\"REG_CITY_NOT_WORK_CITY\",\"LIVE_CITY_NOT_WORK_CITY\"],axis=1,inplace=True)"
      ]
    },
    {
      "cell_type": "code",
      "execution_count": null,
      "metadata": {
        "colab": {
          "base_uri": "https://localhost:8080/"
        },
        "id": "S_7kg4Ujbbwu",
        "outputId": "e228cb75-5b6a-4354-f153-08fc861d6881"
      },
      "outputs": [
        {
          "output_type": "execute_result",
          "data": {
            "text/plain": [
              "0    282686\n",
              "1     24825\n",
              "Name: TARGET, dtype: int64"
            ]
          },
          "metadata": {},
          "execution_count": 8
        }
      ],
      "source": [
        "df[\"TARGET\"].value_counts()"
      ]
    },
    {
      "cell_type": "code",
      "execution_count": null,
      "metadata": {
        "id": "L_t0fsWkbmPq"
      },
      "outputs": [],
      "source": [
        "import seaborn as sns"
      ]
    },
    {
      "cell_type": "code",
      "execution_count": null,
      "metadata": {
        "colab": {
          "base_uri": "https://localhost:8080/"
        },
        "id": "BGY1imzMO8Fv",
        "outputId": "bf5c99be-9a39-45d6-8b97-2d0c8fcd0944"
      },
      "outputs": [
        {
          "output_type": "execute_result",
          "data": {
            "text/plain": [
              "0    282686\n",
              "1     24825\n",
              "Name: TARGET, dtype: int64"
            ]
          },
          "metadata": {},
          "execution_count": 10
        }
      ],
      "source": [
        "df[\"TARGET\"].value_counts()"
      ]
    },
    {
      "cell_type": "code",
      "execution_count": null,
      "metadata": {
        "colab": {
          "base_uri": "https://localhost:8080/",
          "height": 356
        },
        "id": "Egni7rGUbr0s",
        "outputId": "44a5c3d2-2d12-4eca-874f-c91a538878ac"
      },
      "outputs": [
        {
          "output_type": "execute_result",
          "data": {
            "text/plain": [
              "<matplotlib.axes._subplots.AxesSubplot at 0x7f159ed579d0>"
            ]
          },
          "metadata": {},
          "execution_count": 11
        },
        {
          "output_type": "display_data",
          "data": {
            "text/plain": [
              "<Figure size 360x360 with 1 Axes>"
            ],
            "image/png": "[encoded data removed]"
          },
          "metadata": {}
        }
      ],
      "source": [
        "sns.set(rc={'figure.figsize':(5,5)})\n",
        "sns.countplot(x=\"TARGET\",data=df,label=\"TARGET\")"
      ]
    },
    {
      "cell_type": "code",
      "execution_count": null,
      "metadata": {
        "id": "JIYhLyWV6eK9"
      },
      "outputs": [],
      "source": [
        "df.drop(['EXT_SOURCE_1', 'EXT_SOURCE_2', 'EXT_SOURCE_3', 'APARTMENTS_AVG',\n",
        "       'BASEMENTAREA_AVG', 'YEARS_BEGINEXPLUATATION_AVG', 'YEARS_BUILD_AVG',\n",
        "       'COMMONAREA_AVG', 'ELEVATORS_AVG', 'ENTRANCES_AVG', 'FLOORSMAX_AVG',\n",
        "       'FLOORSMIN_AVG', 'LANDAREA_AVG', 'LIVINGAPARTMENTS_AVG','NAME_CONTRACT_TYPE',\n",
        "       'LIVINGAREA_AVG', 'NONLIVINGAPARTMENTS_AVG', 'NONLIVINGAREA_AVG',\n",
        "       'APARTMENTS_MODE', 'BASEMENTAREA_MODE', 'YEARS_BEGINEXPLUATATION_MODE',\n",
        "       'YEARS_BUILD_MODE', 'COMMONAREA_MODE', 'ELEVATORS_MODE','WEEKDAY_APPR_PROCESS_START',\n",
        "       'ENTRANCES_MODE', 'FLOORSMAX_MODE', 'FLOORSMIN_MODE', 'LANDAREA_MODE',\n",
        "       'LIVINGAPARTMENTS_MODE', 'LIVINGAREA_MODE', 'NONLIVINGAPARTMENTS_MODE',\n",
        "       'NONLIVINGAREA_MODE', 'APARTMENTS_MEDI', 'BASEMENTAREA_MEDI','OCCUPATION_TYPE',\n",
        "       'YEARS_BEGINEXPLUATATION_MEDI', 'YEARS_BUILD_MEDI', 'COMMONAREA_MEDI',\n",
        "       'ELEVATORS_MEDI', 'ENTRANCES_MEDI', 'FLOORSMAX_MEDI', 'FLOORSMIN_MEDI',\n",
        "       'LANDAREA_MEDI', 'LIVINGAPARTMENTS_MEDI', 'LIVINGAREA_MEDI',\n",
        "       'NONLIVINGAPARTMENTS_MEDI', 'NONLIVINGAREA_MEDI', 'TOTALAREA_MODE'],axis=1,inplace=True)"
      ]
    },
    {
      "cell_type": "code",
      "execution_count": null,
      "metadata": {
        "id": "sG9TKutY7BJ1"
      },
      "outputs": [],
      "source": [
        "df.drop([\"SK_ID_CURR\"],axis=1,inplace=True)"
      ]
    },
    {
      "cell_type": "code",
      "execution_count": null,
      "metadata": {
        "colab": {
          "base_uri": "https://localhost:8080/"
        },
        "id": "fw_zdalU7NU8",
        "outputId": "74b3183b-e130-4e51-96aa-9b1dce2e6a89"
      },
      "outputs": [
        {
          "output_type": "execute_result",
          "data": {
            "text/plain": [
              "TARGET                             0\n",
              "CODE_GENDER                        0\n",
              "FLAG_OWN_CAR                       0\n",
              "FLAG_OWN_REALTY                    0\n",
              "CNT_CHILDREN                       0\n",
              "AMT_INCOME_TOTAL                   0\n",
              "AMT_CREDIT                         0\n",
              "AMT_ANNUITY                       12\n",
              "AMT_GOODS_PRICE                  278\n",
              "NAME_INCOME_TYPE                   0\n",
              "NAME_EDUCATION_TYPE                0\n",
              "NAME_FAMILY_STATUS                 0\n",
              "NAME_HOUSING_TYPE                  0\n",
              "DAYS_REGISTRATION                  0\n",
              "DAYS_ID_PUBLISH                    0\n",
              "FLAG_MOBIL                         0\n",
              "FLAG_EMP_PHONE                     0\n",
              "FLAG_WORK_PHONE                    0\n",
              "FLAG_CONT_MOBILE                   0\n",
              "FLAG_PHONE                         0\n",
              "CNT_FAM_MEMBERS                    2\n",
              "HOUR_APPR_PROCESS_START            0\n",
              "REG_REGION_NOT_LIVE_REGION         0\n",
              "REG_REGION_NOT_WORK_REGION         0\n",
              "LIVE_REGION_NOT_WORK_REGION        0\n",
              "ORGANIZATION_TYPE                  0\n",
              "DAYS_LAST_PHONE_CHANGE             1\n",
              "credit beauru                  41519\n",
              "dtype: int64"
            ]
          },
          "metadata": {},
          "execution_count": 14
        }
      ],
      "source": [
        "df.isnull().sum()"
      ]
    },
    {
      "cell_type": "code",
      "execution_count": null,
      "metadata": {
        "id": "Odustaj47-Y1"
      },
      "outputs": [],
      "source": [
        "#fill null values with mean,median ,mode\n",
        "for i in df.columns:\n",
        "    if df[i].dtypes == 'object':\n",
        "        df[i].fillna(df[i].mode()[0], inplace=True)\n",
        "    else:\n",
        "        df[i].fillna(df[i].median(), inplace=True)"
      ]
    },
    {
      "cell_type": "code",
      "execution_count": null,
      "metadata": {
        "colab": {
          "base_uri": "https://localhost:8080/"
        },
        "id": "7Y4cF3sL97G8",
        "outputId": "0185c238-cfd1-44f6-b81b-f25ef38811b6"
      },
      "outputs": [
        {
          "output_type": "execute_result",
          "data": {
            "text/plain": [
              "TARGET                         0\n",
              "CODE_GENDER                    0\n",
              "FLAG_OWN_CAR                   0\n",
              "FLAG_OWN_REALTY                0\n",
              "CNT_CHILDREN                   0\n",
              "AMT_INCOME_TOTAL               0\n",
              "AMT_CREDIT                     0\n",
              "AMT_ANNUITY                    0\n",
              "AMT_GOODS_PRICE                0\n",
              "NAME_INCOME_TYPE               0\n",
              "NAME_EDUCATION_TYPE            0\n",
              "NAME_FAMILY_STATUS             0\n",
              "NAME_HOUSING_TYPE              0\n",
              "DAYS_REGISTRATION              0\n",
              "DAYS_ID_PUBLISH                0\n",
              "FLAG_MOBIL                     0\n",
              "FLAG_EMP_PHONE                 0\n",
              "FLAG_WORK_PHONE                0\n",
              "FLAG_CONT_MOBILE               0\n",
              "FLAG_PHONE                     0\n",
              "CNT_FAM_MEMBERS                0\n",
              "HOUR_APPR_PROCESS_START        0\n",
              "REG_REGION_NOT_LIVE_REGION     0\n",
              "REG_REGION_NOT_WORK_REGION     0\n",
              "LIVE_REGION_NOT_WORK_REGION    0\n",
              "ORGANIZATION_TYPE              0\n",
              "DAYS_LAST_PHONE_CHANGE         0\n",
              "credit beauru                  0\n",
              "dtype: int64"
            ]
          },
          "metadata": {},
          "execution_count": 16
        }
      ],
      "source": [
        "df.isnull().sum()"
      ]
    },
    {
      "cell_type": "code",
      "execution_count": null,
      "metadata": {
        "id": "okE1rNUTQd5Q"
      },
      "outputs": [],
      "source": [
        "# Import label encoder\n",
        "from sklearn import preprocessing\n",
        "\n",
        "# label_encoder object knows how to understand word labels.\n",
        "label_encoder = preprocessing.LabelEncoder()"
      ]
    },
    {
      "cell_type": "code",
      "execution_count": null,
      "metadata": {
        "id": "MZhksJMHR-3S"
      },
      "outputs": [],
      "source": [
        "df[\"FLAG_OWN_CAR\"]=label_encoder.fit_transform(df[\"FLAG_OWN_CAR\"])\n",
        "df[\"FLAG_OWN_REALTY\"]=label_encoder.fit_transform(df[\"FLAG_OWN_REALTY\"])\n",
        "df[\"CNT_CHILDREN\"]=label_encoder.fit_transform(df[\"CNT_CHILDREN\"])"
      ]
    },
    {
      "cell_type": "code",
      "execution_count": null,
      "metadata": {
        "id": "3JenaES4S9K4"
      },
      "outputs": [],
      "source": [
        "df[\"NAME_INCOME_TYPE\"]=label_encoder.fit_transform(df[\"NAME_INCOME_TYPE\"])\n",
        "df[\"NAME_EDUCATION_TYPE\"]=label_encoder.fit_transform(df[\"NAME_EDUCATION_TYPE\"])      \n",
        "df[\"NAME_FAMILY_STATUS\"]=label_encoder.fit_transform(df[\"NAME_FAMILY_STATUS\"])\n",
        "df[\"NAME_HOUSING_TYPE\"]=label_encoder.fit_transform(df[\"NAME_HOUSING_TYPE\"])               "
      ]
    },
    {
      "cell_type": "code",
      "execution_count": null,
      "metadata": {
        "id": "NZUimM8MT7S8"
      },
      "outputs": [],
      "source": [
        " df[\"ORGANIZATION_TYPE\"]=label_encoder.fit_transform(df[\"ORGANIZATION_TYPE\"]) "
      ]
    },
    {
      "cell_type": "code",
      "execution_count": null,
      "metadata": {
        "id": "bbDYq9OTUtKd"
      },
      "outputs": [],
      "source": [
        "df[\"CODE_GENDER\"]=label_encoder.fit_transform(df[\"CODE_GENDER\"]) "
      ]
    },
    {
      "cell_type": "code",
      "execution_count": null,
      "metadata": {
        "colab": {
          "base_uri": "https://localhost:8080/",
          "height": 1000
        },
        "id": "HGu62C5F3tF_",
        "outputId": "5ae0f57c-8738-4290-fbc9-184bef73c5f3"
      },
      "outputs": [
        {
          "output_type": "execute_result",
          "data": {
            "text/plain": [
              "                               TARGET  CODE_GENDER  FLAG_OWN_CAR  \\\n",
              "TARGET                       1.000000     0.054692     -0.021851   \n",
              "CODE_GENDER                  0.054692     1.000000      0.345833   \n",
              "FLAG_OWN_CAR                -0.021851     0.345833      1.000000   \n",
              "FLAG_OWN_REALTY             -0.006148    -0.044340     -0.002817   \n",
              "CNT_CHILDREN                 0.019228     0.047495      0.102174   \n",
              "AMT_INCOME_TOTAL            -0.003982     0.074728      0.083383   \n",
              "AMT_CREDIT                  -0.030369     0.021572      0.116225   \n",
              "AMT_ANNUITY                 -0.012815     0.076960      0.141587   \n",
              "AMT_GOODS_PRICE             -0.039623     0.022495      0.120435   \n",
              "NAME_INCOME_TYPE             0.046829     0.065089      0.033186   \n",
              "NAME_EDUCATION_TYPE          0.054699     0.009554     -0.093977   \n",
              "NAME_FAMILY_STATUS          -0.004127    -0.099713     -0.131014   \n",
              "NAME_HOUSING_TYPE            0.034489     0.058767     -0.004041   \n",
              "DAYS_REGISTRATION            0.041975     0.077191      0.087766   \n",
              "DAYS_ID_PUBLISH              0.051457     0.000130      0.013661   \n",
              "FLAG_MOBIL                   0.000534    -0.002503     -0.002512   \n",
              "FLAG_EMP_PHONE               0.045982     0.157253      0.154659   \n",
              "FLAG_WORK_PHONE              0.028524     0.034030      0.011471   \n",
              "FLAG_CONT_MOBILE             0.000370    -0.006017     -0.006644   \n",
              "FLAG_PHONE                  -0.023806    -0.019429     -0.007588   \n",
              "CNT_FAM_MEMBERS              0.009308     0.080573      0.149901   \n",
              "HOUR_APPR_PROCESS_START     -0.024166     0.007177      0.014369   \n",
              "REG_REGION_NOT_LIVE_REGION   0.005576     0.023683     -0.000668   \n",
              "REG_REGION_NOT_WORK_REGION   0.006942     0.103437      0.038937   \n",
              "LIVE_REGION_NOT_WORK_REGION  0.002819     0.106060      0.046352   \n",
              "ORGANIZATION_TYPE           -0.030765    -0.163879     -0.114162   \n",
              "DAYS_LAST_PHONE_CHANGE       0.055218     0.025290     -0.039089   \n",
              "credit beauru               -0.014684    -0.002189      0.015556   \n",
              "\n",
              "                             FLAG_OWN_REALTY  CNT_CHILDREN  AMT_INCOME_TOTAL  \\\n",
              "TARGET                             -0.006148      0.019228         -0.003982   \n",
              "CODE_GENDER                        -0.044340      0.047495          0.074728   \n",
              "FLAG_OWN_CAR                       -0.002817      0.102174          0.083383   \n",
              "FLAG_OWN_REALTY                     1.000000     -0.002388          0.002934   \n",
              "CNT_CHILDREN                       -0.002388      1.000000          0.012912   \n",
              "AMT_INCOME_TOTAL                    0.002934      0.012912          1.000000   \n",
              "AMT_CREDIT                         -0.039270      0.002185          0.156870   \n",
              "AMT_ANNUITY                        -0.005219      0.021445          0.191657   \n",
              "AMT_GOODS_PRICE                    -0.045571     -0.001823          0.159632   \n",
              "NAME_INCOME_TYPE                   -0.026539      0.102629         -0.044451   \n",
              "NAME_EDUCATION_TYPE                 0.022130     -0.034156         -0.096219   \n",
              "NAME_FAMILY_STATUS                  0.000521     -0.165739         -0.019503   \n",
              "NAME_HOUSING_TYPE                  -0.199722      0.021782         -0.007634   \n",
              "DAYS_REGISTRATION                  -0.025224      0.183625          0.027805   \n",
              "DAYS_ID_PUBLISH                     0.006664     -0.028093          0.008506   \n",
              "FLAG_MOBIL                         -0.001198      0.001043          0.000325   \n",
              "FLAG_EMP_PHONE                     -0.070021      0.240999          0.063994   \n",
              "FLAG_WORK_PHONE                    -0.114043      0.055661         -0.017193   \n",
              "FLAG_CONT_MOBILE                    0.008526     -0.000798         -0.008290   \n",
              "FLAG_PHONE                         -0.041507     -0.030017          0.000159   \n",
              "CNT_FAM_MEMBERS                     0.007350      0.879175          0.016341   \n",
              "HOUR_APPR_PROCESS_START            -0.102687     -0.007314          0.036459   \n",
              "REG_REGION_NOT_LIVE_REGION         -0.036301     -0.013329          0.031191   \n",
              "REG_REGION_NOT_WORK_REGION         -0.032316      0.008209          0.062340   \n",
              "LIVE_REGION_NOT_WORK_REGION        -0.018324      0.014865          0.058059   \n",
              "ORGANIZATION_TYPE                   0.050389     -0.144614         -0.058272   \n",
              "DAYS_LAST_PHONE_CHANGE              0.027020     -0.005832         -0.018585   \n",
              "credit beauru                       0.002996     -0.009158          0.025800   \n",
              "\n",
              "                             AMT_CREDIT  AMT_ANNUITY  AMT_GOODS_PRICE  \\\n",
              "TARGET                        -0.030369    -0.012815        -0.039623   \n",
              "CODE_GENDER                    0.021572     0.076960         0.022495   \n",
              "FLAG_OWN_CAR                   0.116225     0.141587         0.120435   \n",
              "FLAG_OWN_REALTY               -0.039270    -0.005219        -0.045571   \n",
              "CNT_CHILDREN                   0.002185     0.021445        -0.001823   \n",
              "AMT_INCOME_TOTAL               0.156870     0.191657         0.159632   \n",
              "AMT_CREDIT                     1.000000     0.770127         0.986734   \n",
              "AMT_ANNUITY                    0.770127     1.000000         0.774837   \n",
              "AMT_GOODS_PRICE                0.986734     0.774837         1.000000   \n",
              "NAME_INCOME_TYPE              -0.071794    -0.073018        -0.072458   \n",
              "NAME_EDUCATION_TYPE           -0.120821    -0.141663        -0.133938   \n",
              "NAME_FAMILY_STATUS            -0.101622    -0.102533        -0.102716   \n",
              "NAME_HOUSING_TYPE             -0.054356    -0.033667        -0.055470   \n",
              "DAYS_REGISTRATION              0.009621     0.038514         0.011546   \n",
              "DAYS_ID_PUBLISH               -0.006575     0.011267        -0.009289   \n",
              "FLAG_MOBIL                     0.001436     0.000149         0.001398   \n",
              "FLAG_EMP_PHONE                 0.065519     0.103530         0.063412   \n",
              "FLAG_WORK_PHONE               -0.021085    -0.024805         0.000787   \n",
              "FLAG_CONT_MOBILE               0.023653     0.022349         0.020696   \n",
              "FLAG_PHONE                     0.026213     0.010799         0.041921   \n",
              "CNT_FAM_MEMBERS                0.063160     0.075541         0.061138   \n",
              "HOUR_APPR_PROCESS_START        0.052738     0.052265         0.062269   \n",
              "REG_REGION_NOT_LIVE_REGION     0.024010     0.041291         0.026119   \n",
              "REG_REGION_NOT_WORK_REGION     0.051929     0.079403         0.053146   \n",
              "LIVE_REGION_NOT_WORK_REGION    0.052609     0.074530         0.052829   \n",
              "ORGANIZATION_TYPE             -0.052620    -0.077215        -0.052060   \n",
              "DAYS_LAST_PHONE_CHANGE        -0.073702    -0.063746        -0.076294   \n",
              "credit beauru                  0.054452     0.036859         0.056173   \n",
              "\n",
              "                             NAME_INCOME_TYPE  ...  FLAG_CONT_MOBILE  \\\n",
              "TARGET                               0.046829  ...          0.000370   \n",
              "CODE_GENDER                          0.065089  ...         -0.006017   \n",
              "FLAG_OWN_CAR                         0.033186  ...         -0.006644   \n",
              "FLAG_OWN_REALTY                     -0.026539  ...          0.008526   \n",
              "CNT_CHILDREN                         0.102629  ...         -0.000798   \n",
              "AMT_INCOME_TOTAL                    -0.044451  ...         -0.008290   \n",
              "AMT_CREDIT                          -0.071794  ...          0.023653   \n",
              "AMT_ANNUITY                         -0.073018  ...          0.022349   \n",
              "AMT_GOODS_PRICE                     -0.072458  ...          0.020696   \n",
              "NAME_INCOME_TYPE                     1.000000  ...          0.008401   \n",
              "NAME_EDUCATION_TYPE                  0.088298  ...          0.021119   \n",
              "NAME_FAMILY_STATUS                  -0.057381  ...          0.000329   \n",
              "NAME_HOUSING_TYPE                    0.035824  ...          0.001005   \n",
              "DAYS_REGISTRATION                    0.069509  ...         -0.003848   \n",
              "DAYS_ID_PUBLISH                      0.074256  ...         -0.000802   \n",
              "FLAG_MOBIL                          -0.001651  ...         -0.000078   \n",
              "FLAG_EMP_PHONE                       0.307389  ...         -0.012819   \n",
              "FLAG_WORK_PHONE                      0.137629  ...          0.021580   \n",
              "FLAG_CONT_MOBILE                     0.008401  ...          1.000000   \n",
              "FLAG_PHONE                          -0.009941  ...          0.006257   \n",
              "CNT_FAM_MEMBERS                      0.099144  ...          0.000218   \n",
              "HOUR_APPR_PROCESS_START             -0.029674  ...         -0.001559   \n",
              "REG_REGION_NOT_LIVE_REGION          -0.041006  ...          0.001044   \n",
              "REG_REGION_NOT_WORK_REGION          -0.021898  ...         -0.001324   \n",
              "LIVE_REGION_NOT_WORK_REGION         -0.009141  ...         -0.002923   \n",
              "ORGANIZATION_TYPE                   -0.176226  ...          0.013418   \n",
              "DAYS_LAST_PHONE_CHANGE               0.006285  ...         -0.028950   \n",
              "credit beauru                       -0.023749  ...          0.005196   \n",
              "\n",
              "                             FLAG_PHONE  CNT_FAM_MEMBERS  \\\n",
              "TARGET                        -0.023806         0.009308   \n",
              "CODE_GENDER                   -0.019429         0.080573   \n",
              "FLAG_OWN_CAR                  -0.007588         0.149901   \n",
              "FLAG_OWN_REALTY               -0.041507         0.007350   \n",
              "CNT_CHILDREN                  -0.030017         0.879175   \n",
              "AMT_INCOME_TOTAL               0.000159         0.016341   \n",
              "AMT_CREDIT                     0.026213         0.063160   \n",
              "AMT_ANNUITY                    0.010799         0.075541   \n",
              "AMT_GOODS_PRICE                0.041921         0.061138   \n",
              "NAME_INCOME_TYPE              -0.009941         0.099144   \n",
              "NAME_EDUCATION_TYPE           -0.030929        -0.020637   \n",
              "NAME_FAMILY_STATUS            -0.008258        -0.548550   \n",
              "NAME_HOUSING_TYPE             -0.023704        -0.027198   \n",
              "DAYS_REGISTRATION             -0.075188         0.173415   \n",
              "DAYS_ID_PUBLISH               -0.037660        -0.020912   \n",
              "FLAG_MOBIL                     0.001128         0.000302   \n",
              "FLAG_EMP_PHONE                -0.016131         0.233950   \n",
              "FLAG_WORK_PHONE                0.293105         0.067189   \n",
              "FLAG_CONT_MOBILE               0.006257         0.000218   \n",
              "FLAG_PHONE                     1.000000        -0.015418   \n",
              "CNT_FAM_MEMBERS               -0.015418         1.000000   \n",
              "HOUR_APPR_PROCESS_START        0.059376        -0.012227   \n",
              "REG_REGION_NOT_LIVE_REGION     0.002078        -0.017133   \n",
              "REG_REGION_NOT_WORK_REGION     0.004284         0.003133   \n",
              "LIVE_REGION_NOT_WORK_REGION    0.005561         0.011847   \n",
              "ORGANIZATION_TYPE             -0.001102        -0.138975   \n",
              "DAYS_LAST_PHONE_CHANGE        -0.067458        -0.027109   \n",
              "credit beauru                  0.019649        -0.003319   \n",
              "\n",
              "                             HOUR_APPR_PROCESS_START  \\\n",
              "TARGET                                     -0.024166   \n",
              "CODE_GENDER                                 0.007177   \n",
              "FLAG_OWN_CAR                                0.014369   \n",
              "FLAG_OWN_REALTY                            -0.102687   \n",
              "CNT_CHILDREN                               -0.007314   \n",
              "AMT_INCOME_TOTAL                            0.036459   \n",
              "AMT_CREDIT                                  0.052738   \n",
              "AMT_ANNUITY                                 0.052265   \n",
              "AMT_GOODS_PRICE                             0.062269   \n",
              "NAME_INCOME_TYPE                           -0.029674   \n",
              "NAME_EDUCATION_TYPE                        -0.089428   \n",
              "NAME_FAMILY_STATUS                         -0.004099   \n",
              "NAME_HOUSING_TYPE                           0.012784   \n",
              "DAYS_REGISTRATION                          -0.010908   \n",
              "DAYS_ID_PUBLISH                             0.031676   \n",
              "FLAG_MOBIL                                 -0.000517   \n",
              "FLAG_EMP_PHONE                              0.091356   \n",
              "FLAG_WORK_PHONE                             0.036826   \n",
              "FLAG_CONT_MOBILE                           -0.001559   \n",
              "FLAG_PHONE                                  0.059376   \n",
              "CNT_FAM_MEMBERS                            -0.012227   \n",
              "HOUR_APPR_PROCESS_START                     1.000000   \n",
              "REG_REGION_NOT_LIVE_REGION                  0.054894   \n",
              "REG_REGION_NOT_WORK_REGION                  0.075037   \n",
              "LIVE_REGION_NOT_WORK_REGION                 0.060920   \n",
              "ORGANIZATION_TYPE                          -0.083595   \n",
              "DAYS_LAST_PHONE_CHANGE                     -0.014902   \n",
              "credit beauru                               0.026793   \n",
              "\n",
              "                             REG_REGION_NOT_LIVE_REGION  \\\n",
              "TARGET                                         0.005576   \n",
              "CODE_GENDER                                    0.023683   \n",
              "FLAG_OWN_CAR                                  -0.000668   \n",
              "FLAG_OWN_REALTY                               -0.036301   \n",
              "CNT_CHILDREN                                  -0.013329   \n",
              "AMT_INCOME_TOTAL                               0.031191   \n",
              "AMT_CREDIT                                     0.024010   \n",
              "AMT_ANNUITY                                    0.041291   \n",
              "AMT_GOODS_PRICE                                0.026119   \n",
              "NAME_INCOME_TYPE                              -0.041006   \n",
              "NAME_EDUCATION_TYPE                           -0.041738   \n",
              "NAME_FAMILY_STATUS                            -0.000240   \n",
              "NAME_HOUSING_TYPE                              0.058695   \n",
              "DAYS_REGISTRATION                              0.028213   \n",
              "DAYS_ID_PUBLISH                                0.034757   \n",
              "FLAG_MOBIL                                     0.000224   \n",
              "FLAG_EMP_PHONE                                 0.036640   \n",
              "FLAG_WORK_PHONE                                0.064484   \n",
              "FLAG_CONT_MOBILE                               0.001044   \n",
              "FLAG_PHONE                                     0.002078   \n",
              "CNT_FAM_MEMBERS                               -0.017133   \n",
              "HOUR_APPR_PROCESS_START                        0.054894   \n",
              "REG_REGION_NOT_LIVE_REGION                     1.000000   \n",
              "REG_REGION_NOT_WORK_REGION                     0.450804   \n",
              "LIVE_REGION_NOT_WORK_REGION                    0.088263   \n",
              "ORGANIZATION_TYPE                             -0.036514   \n",
              "DAYS_LAST_PHONE_CHANGE                         0.037881   \n",
              "credit beauru                                 -0.003727   \n",
              "\n",
              "                             REG_REGION_NOT_WORK_REGION  \\\n",
              "TARGET                                         0.006942   \n",
              "CODE_GENDER                                    0.103437   \n",
              "FLAG_OWN_CAR                                   0.038937   \n",
              "FLAG_OWN_REALTY                               -0.032316   \n",
              "CNT_CHILDREN                                   0.008209   \n",
              "AMT_INCOME_TOTAL                               0.062340   \n",
              "AMT_CREDIT                                     0.051929   \n",
              "AMT_ANNUITY                                    0.079403   \n",
              "AMT_GOODS_PRICE                                0.053146   \n",
              "NAME_INCOME_TYPE                              -0.021898   \n",
              "NAME_EDUCATION_TYPE                           -0.043688   \n",
              "NAME_FAMILY_STATUS                            -0.011009   \n",
              "NAME_HOUSING_TYPE                              0.039113   \n",
              "DAYS_REGISTRATION                              0.036787   \n",
              "DAYS_ID_PUBLISH                                0.048071   \n",
              "FLAG_MOBIL                                     0.000417   \n",
              "FLAG_EMP_PHONE                                 0.108355   \n",
              "FLAG_WORK_PHONE                                0.068202   \n",
              "FLAG_CONT_MOBILE                              -0.001324   \n",
              "FLAG_PHONE                                     0.004284   \n",
              "CNT_FAM_MEMBERS                                0.003133   \n",
              "HOUR_APPR_PROCESS_START                        0.075037   \n",
              "REG_REGION_NOT_LIVE_REGION                     0.450804   \n",
              "REG_REGION_NOT_WORK_REGION                     1.000000   \n",
              "LIVE_REGION_NOT_WORK_REGION                    0.860627   \n",
              "ORGANIZATION_TYPE                             -0.107266   \n",
              "DAYS_LAST_PHONE_CHANGE                         0.036389   \n",
              "credit beauru                                  0.000077   \n",
              "\n",
              "                             LIVE_REGION_NOT_WORK_REGION  ORGANIZATION_TYPE  \\\n",
              "TARGET                                          0.002819          -0.030765   \n",
              "CODE_GENDER                                     0.106060          -0.163879   \n",
              "FLAG_OWN_CAR                                    0.046352          -0.114162   \n",
              "FLAG_OWN_REALTY                                -0.018324           0.050389   \n",
              "CNT_CHILDREN                                    0.014865          -0.144614   \n",
              "AMT_INCOME_TOTAL                                0.058059          -0.058272   \n",
              "AMT_CREDIT                                      0.052609          -0.052620   \n",
              "AMT_ANNUITY                                     0.074530          -0.077215   \n",
              "AMT_GOODS_PRICE                                 0.052829          -0.052060   \n",
              "NAME_INCOME_TYPE                               -0.009141          -0.176226   \n",
              "NAME_EDUCATION_TYPE                            -0.032684           0.092907   \n",
              "NAME_FAMILY_STATUS                             -0.012865           0.106376   \n",
              "NAME_HOUSING_TYPE                               0.011326          -0.068986   \n",
              "DAYS_REGISTRATION                               0.027560          -0.127205   \n",
              "DAYS_ID_PUBLISH                                 0.033938          -0.166828   \n",
              "FLAG_MOBIL                                      0.000371          -0.001547   \n",
              "FLAG_EMP_PHONE                                  0.096447          -0.630838   \n",
              "FLAG_WORK_PHONE                                 0.041513          -0.140566   \n",
              "FLAG_CONT_MOBILE                               -0.002923           0.013418   \n",
              "FLAG_PHONE                                      0.005561          -0.001102   \n",
              "CNT_FAM_MEMBERS                                 0.011847          -0.138975   \n",
              "HOUR_APPR_PROCESS_START                         0.060920          -0.083595   \n",
              "REG_REGION_NOT_LIVE_REGION                      0.088263          -0.036514   \n",
              "REG_REGION_NOT_WORK_REGION                      0.860627          -0.107266   \n",
              "LIVE_REGION_NOT_WORK_REGION                     1.000000          -0.099872   \n",
              "ORGANIZATION_TYPE                              -0.099872           1.000000   \n",
              "DAYS_LAST_PHONE_CHANGE                          0.021361           0.011639   \n",
              "credit beauru                                   0.002115          -0.020256   \n",
              "\n",
              "                             DAYS_LAST_PHONE_CHANGE  credit beauru  \n",
              "TARGET                                     0.055218      -0.014684  \n",
              "CODE_GENDER                                0.025290      -0.002189  \n",
              "FLAG_OWN_CAR                              -0.039089       0.015556  \n",
              "FLAG_OWN_REALTY                            0.027020       0.002996  \n",
              "CNT_CHILDREN                              -0.005832      -0.009158  \n",
              "AMT_INCOME_TOTAL                          -0.018585       0.025800  \n",
              "AMT_CREDIT                                -0.073702       0.054452  \n",
              "AMT_ANNUITY                               -0.063746       0.036859  \n",
              "AMT_GOODS_PRICE                           -0.076294       0.056173  \n",
              "NAME_INCOME_TYPE                           0.006285      -0.023749  \n",
              "NAME_EDUCATION_TYPE                        0.000025      -0.026206  \n",
              "NAME_FAMILY_STATUS                         0.034806      -0.008050  \n",
              "NAME_HOUSING_TYPE                          0.034642      -0.010704  \n",
              "DAYS_REGISTRATION                          0.056983      -0.009068  \n",
              "DAYS_ID_PUBLISH                            0.088577      -0.025587  \n",
              "FLAG_MOBIL                                -0.000449       0.000778  \n",
              "FLAG_EMP_PHONE                            -0.021103       0.014756  \n",
              "FLAG_WORK_PHONE                           -0.041538      -0.017970  \n",
              "FLAG_CONT_MOBILE                          -0.028950       0.005196  \n",
              "FLAG_PHONE                                -0.067458       0.019649  \n",
              "CNT_FAM_MEMBERS                           -0.027109      -0.003319  \n",
              "HOUR_APPR_PROCESS_START                   -0.014902       0.026793  \n",
              "REG_REGION_NOT_LIVE_REGION                 0.037881      -0.003727  \n",
              "REG_REGION_NOT_WORK_REGION                 0.036389       0.000077  \n",
              "LIVE_REGION_NOT_WORK_REGION                0.021361       0.002115  \n",
              "ORGANIZATION_TYPE                          0.011639      -0.020256  \n",
              "DAYS_LAST_PHONE_CHANGE                     1.000000      -0.041654  \n",
              "credit beauru                             -0.041654       1.000000  \n",
              "\n",
              "[28 rows x 28 columns]"
            ],
            "text/html": [
              "\n",
              "  <div id=\"df-eaf639e3-1cb5-4868-a8e9-75bbd021eb42\">\n",
              "    <div class=\"colab-df-container\">\n",
              "      <div>\n",
              "<style scoped>\n",
              "    .dataframe tbody tr th:only-of-type {\n",
              "        vertical-align: middle;\n",
              "    }\n",
              "\n",
              "    .dataframe tbody tr th {\n",
              "        vertical-align: top;\n",
              "    }\n",
              "\n",
              "    .dataframe thead th {\n",
              "        text-align: right;\n",
              "    }\n",
              "</style>\n",
              "<table border=\"1\" class=\"dataframe\">\n",
              "  <thead>\n",
              "    <tr style=\"text-align: right;\">\n",
              "      <th></th>\n",
              "      <th>TARGET</th>\n",
              "      <th>CODE_GENDER</th>\n",
              "      <th>FLAG_OWN_CAR</th>\n",
              "      <th>FLAG_OWN_REALTY</th>\n",
              "      <th>CNT_CHILDREN</th>\n",
              "      <th>AMT_INCOME_TOTAL</th>\n",
              "      <th>AMT_CREDIT</th>\n",
              "      <th>AMT_ANNUITY</th>\n",
              "      <th>AMT_GOODS_PRICE</th>\n",
              "      <th>NAME_INCOME_TYPE</th>\n",
              "      <th>...</th>\n",
              "      <th>FLAG_CONT_MOBILE</th>\n",
              "      <th>FLAG_PHONE</th>\n",
              "      <th>CNT_FAM_MEMBERS</th>\n",
              "      <th>HOUR_APPR_PROCESS_START</th>\n",
              "      <th>REG_REGION_NOT_LIVE_REGION</th>\n",
              "      <th>REG_REGION_NOT_WORK_REGION</th>\n",
              "      <th>LIVE_REGION_NOT_WORK_REGION</th>\n",
              "      <th>ORGANIZATION_TYPE</th>\n",
              "      <th>DAYS_LAST_PHONE_CHANGE</th>\n",
              "      <th>credit beauru</th>\n",
              "    </tr>\n",
              "  </thead>\n",
              "  <tbody>\n",
              "    <tr>\n",
              "      <th>TARGET</th>\n",
              "      <td>1.000000</td>\n",
              "      <td>0.054692</td>\n",
              "      <td>-0.021851</td>\n",
              "      <td>-0.006148</td>\n",
              "      <td>0.019228</td>\n",
              "      <td>-0.003982</td>\n",
              "      <td>-0.030369</td>\n",
              "      <td>-0.012815</td>\n",
              "      <td>-0.039623</td>\n",
              "      <td>0.046829</td>\n",
              "      <td>...</td>\n",
              "      <td>0.000370</td>\n",
              "      <td>-0.023806</td>\n",
              "      <td>0.009308</td>\n",
              "      <td>-0.024166</td>\n",
              "      <td>0.005576</td>\n",
              "      <td>0.006942</td>\n",
              "      <td>0.002819</td>\n",
              "      <td>-0.030765</td>\n",
              "      <td>0.055218</td>\n",
              "      <td>-0.014684</td>\n",
              "    </tr>\n",
              "    <tr>\n",
              "      <th>CODE_GENDER</th>\n",
              "      <td>0.054692</td>\n",
              "      <td>1.000000</td>\n",
              "      <td>0.345833</td>\n",
              "      <td>-0.044340</td>\n",
              "      <td>0.047495</td>\n",
              "      <td>0.074728</td>\n",
              "      <td>0.021572</td>\n",
              "      <td>0.076960</td>\n",
              "      <td>0.022495</td>\n",
              "      <td>0.065089</td>\n",
              "      <td>...</td>\n",
              "      <td>-0.006017</td>\n",
              "      <td>-0.019429</td>\n",
              "      <td>0.080573</td>\n",
              "      <td>0.007177</td>\n",
              "      <td>0.023683</td>\n",
              "      <td>0.103437</td>\n",
              "      <td>0.106060</td>\n",
              "      <td>-0.163879</td>\n",
              "      <td>0.025290</td>\n",
              "      <td>-0.002189</td>\n",
              "    </tr>\n",
              "    <tr>\n",
              "      <th>FLAG_OWN_CAR</th>\n",
              "      <td>-0.021851</td>\n",
              "      <td>0.345833</td>\n",
              "      <td>1.000000</td>\n",
              "      <td>-0.002817</td>\n",
              "      <td>0.102174</td>\n",
              "      <td>0.083383</td>\n",
              "      <td>0.116225</td>\n",
              "      <td>0.141587</td>\n",
              "      <td>0.120435</td>\n",
              "      <td>0.033186</td>\n",
              "      <td>...</td>\n",
              "      <td>-0.006644</td>\n",
              "      <td>-0.007588</td>\n",
              "      <td>0.149901</td>\n",
              "      <td>0.014369</td>\n",
              "      <td>-0.000668</td>\n",
              "      <td>0.038937</td>\n",
              "      <td>0.046352</td>\n",
              "      <td>-0.114162</td>\n",
              "      <td>-0.039089</td>\n",
              "      <td>0.015556</td>\n",
              "    </tr>\n",
              "    <tr>\n",
              "      <th>FLAG_OWN_REALTY</th>\n",
              "      <td>-0.006148</td>\n",
              "      <td>-0.044340</td>\n",
              "      <td>-0.002817</td>\n",
              "      <td>1.000000</td>\n",
              "      <td>-0.002388</td>\n",
              "      <td>0.002934</td>\n",
              "      <td>-0.039270</td>\n",
              "      <td>-0.005219</td>\n",
              "      <td>-0.045571</td>\n",
              "      <td>-0.026539</td>\n",
              "      <td>...</td>\n",
              "      <td>0.008526</td>\n",
              "      <td>-0.041507</td>\n",
              "      <td>0.007350</td>\n",
              "      <td>-0.102687</td>\n",
              "      <td>-0.036301</td>\n",
              "      <td>-0.032316</td>\n",
              "      <td>-0.018324</td>\n",
              "      <td>0.050389</td>\n",
              "      <td>0.027020</td>\n",
              "      <td>0.002996</td>\n",
              "    </tr>\n",
              "    <tr>\n",
              "      <th>CNT_CHILDREN</th>\n",
              "      <td>0.019228</td>\n",
              "      <td>0.047495</td>\n",
              "      <td>0.102174</td>\n",
              "      <td>-0.002388</td>\n",
              "      <td>1.000000</td>\n",
              "      <td>0.012912</td>\n",
              "      <td>0.002185</td>\n",
              "      <td>0.021445</td>\n",
              "      <td>-0.001823</td>\n",
              "      <td>0.102629</td>\n",
              "      <td>...</td>\n",
              "      <td>-0.000798</td>\n",
              "      <td>-0.030017</td>\n",
              "      <td>0.879175</td>\n",
              "      <td>-0.007314</td>\n",
              "      <td>-0.013329</td>\n",
              "      <td>0.008209</td>\n",
              "      <td>0.014865</td>\n",
              "      <td>-0.144614</td>\n",
              "      <td>-0.005832</td>\n",
              "      <td>-0.009158</td>\n",
              "    </tr>\n",
              "    <tr>\n",
              "      <th>AMT_INCOME_TOTAL</th>\n",
              "      <td>-0.003982</td>\n",
              "      <td>0.074728</td>\n",
              "      <td>0.083383</td>\n",
              "      <td>0.002934</td>\n",
              "      <td>0.012912</td>\n",
              "      <td>1.000000</td>\n",
              "      <td>0.156870</td>\n",
              "      <td>0.191657</td>\n",
              "      <td>0.159632</td>\n",
              "      <td>-0.044451</td>\n",
              "      <td>...</td>\n",
              "      <td>-0.008290</td>\n",
              "      <td>0.000159</td>\n",
              "      <td>0.016341</td>\n",
              "      <td>0.036459</td>\n",
              "      <td>0.031191</td>\n",
              "      <td>0.062340</td>\n",
              "      <td>0.058059</td>\n",
              "      <td>-0.058272</td>\n",
              "      <td>-0.018585</td>\n",
              "      <td>0.025800</td>\n",
              "    </tr>\n",
              "    <tr>\n",
              "      <th>AMT_CREDIT</th>\n",
              "      <td>-0.030369</td>\n",
              "      <td>0.021572</td>\n",
              "      <td>0.116225</td>\n",
              "      <td>-0.039270</td>\n",
              "      <td>0.002185</td>\n",
              "      <td>0.156870</td>\n",
              "      <td>1.000000</td>\n",
              "      <td>0.770127</td>\n",
              "      <td>0.986734</td>\n",
              "      <td>-0.071794</td>\n",
              "      <td>...</td>\n",
              "      <td>0.023653</td>\n",
              "      <td>0.026213</td>\n",
              "      <td>0.063160</td>\n",
              "      <td>0.052738</td>\n",
              "      <td>0.024010</td>\n",
              "      <td>0.051929</td>\n",
              "      <td>0.052609</td>\n",
              "      <td>-0.052620</td>\n",
              "      <td>-0.073702</td>\n",
              "      <td>0.054452</td>\n",
              "    </tr>\n",
              "    <tr>\n",
              "      <th>AMT_ANNUITY</th>\n",
              "      <td>-0.012815</td>\n",
              "      <td>0.076960</td>\n",
              "      <td>0.141587</td>\n",
              "      <td>-0.005219</td>\n",
              "      <td>0.021445</td>\n",
              "      <td>0.191657</td>\n",
              "      <td>0.770127</td>\n",
              "      <td>1.000000</td>\n",
              "      <td>0.774837</td>\n",
              "      <td>-0.073018</td>\n",
              "      <td>...</td>\n",
              "      <td>0.022349</td>\n",
              "      <td>0.010799</td>\n",
              "      <td>0.075541</td>\n",
              "      <td>0.052265</td>\n",
              "      <td>0.041291</td>\n",
              "      <td>0.079403</td>\n",
              "      <td>0.074530</td>\n",
              "      <td>-0.077215</td>\n",
              "      <td>-0.063746</td>\n",
              "      <td>0.036859</td>\n",
              "    </tr>\n",
              "    <tr>\n",
              "      <th>AMT_GOODS_PRICE</th>\n",
              "      <td>-0.039623</td>\n",
              "      <td>0.022495</td>\n",
              "      <td>0.120435</td>\n",
              "      <td>-0.045571</td>\n",
              "      <td>-0.001823</td>\n",
              "      <td>0.159632</td>\n",
              "      <td>0.986734</td>\n",
              "      <td>0.774837</td>\n",
              "      <td>1.000000</td>\n",
              "      <td>-0.072458</td>\n",
              "      <td>...</td>\n",
              "      <td>0.020696</td>\n",
              "      <td>0.041921</td>\n",
              "      <td>0.061138</td>\n",
              "      <td>0.062269</td>\n",
              "      <td>0.026119</td>\n",
              "      <td>0.053146</td>\n",
              "      <td>0.052829</td>\n",
              "      <td>-0.052060</td>\n",
              "      <td>-0.076294</td>\n",
              "      <td>0.056173</td>\n",
              "    </tr>\n",
              "    <tr>\n",
              "      <th>NAME_INCOME_TYPE</th>\n",
              "      <td>0.046829</td>\n",
              "      <td>0.065089</td>\n",
              "      <td>0.033186</td>\n",
              "      <td>-0.026539</td>\n",
              "      <td>0.102629</td>\n",
              "      <td>-0.044451</td>\n",
              "      <td>-0.071794</td>\n",
              "      <td>-0.073018</td>\n",
              "      <td>-0.072458</td>\n",
              "      <td>1.000000</td>\n",
              "      <td>...</td>\n",
              "      <td>0.008401</td>\n",
              "      <td>-0.009941</td>\n",
              "      <td>0.099144</td>\n",
              "      <td>-0.029674</td>\n",
              "      <td>-0.041006</td>\n",
              "      <td>-0.021898</td>\n",
              "      <td>-0.009141</td>\n",
              "      <td>-0.176226</td>\n",
              "      <td>0.006285</td>\n",
              "      <td>-0.023749</td>\n",
              "    </tr>\n",
              "    <tr>\n",
              "      <th>NAME_EDUCATION_TYPE</th>\n",
              "      <td>0.054699</td>\n",
              "      <td>0.009554</td>\n",
              "      <td>-0.093977</td>\n",
              "      <td>0.022130</td>\n",
              "      <td>-0.034156</td>\n",
              "      <td>-0.096219</td>\n",
              "      <td>-0.120821</td>\n",
              "      <td>-0.141663</td>\n",
              "      <td>-0.133938</td>\n",
              "      <td>0.088298</td>\n",
              "      <td>...</td>\n",
              "      <td>0.021119</td>\n",
              "      <td>-0.030929</td>\n",
              "      <td>-0.020637</td>\n",
              "      <td>-0.089428</td>\n",
              "      <td>-0.041738</td>\n",
              "      <td>-0.043688</td>\n",
              "      <td>-0.032684</td>\n",
              "      <td>0.092907</td>\n",
              "      <td>0.000025</td>\n",
              "      <td>-0.026206</td>\n",
              "    </tr>\n",
              "    <tr>\n",
              "      <th>NAME_FAMILY_STATUS</th>\n",
              "      <td>-0.004127</td>\n",
              "      <td>-0.099713</td>\n",
              "      <td>-0.131014</td>\n",
              "      <td>0.000521</td>\n",
              "      <td>-0.165739</td>\n",
              "      <td>-0.019503</td>\n",
              "      <td>-0.101622</td>\n",
              "      <td>-0.102533</td>\n",
              "      <td>-0.102716</td>\n",
              "      <td>-0.057381</td>\n",
              "      <td>...</td>\n",
              "      <td>0.000329</td>\n",
              "      <td>-0.008258</td>\n",
              "      <td>-0.548550</td>\n",
              "      <td>-0.004099</td>\n",
              "      <td>-0.000240</td>\n",
              "      <td>-0.011009</td>\n",
              "      <td>-0.012865</td>\n",
              "      <td>0.106376</td>\n",
              "      <td>0.034806</td>\n",
              "      <td>-0.008050</td>\n",
              "    </tr>\n",
              "    <tr>\n",
              "      <th>NAME_HOUSING_TYPE</th>\n",
              "      <td>0.034489</td>\n",
              "      <td>0.058767</td>\n",
              "      <td>-0.004041</td>\n",
              "      <td>-0.199722</td>\n",
              "      <td>0.021782</td>\n",
              "      <td>-0.007634</td>\n",
              "      <td>-0.054356</td>\n",
              "      <td>-0.033667</td>\n",
              "      <td>-0.055470</td>\n",
              "      <td>0.035824</td>\n",
              "      <td>...</td>\n",
              "      <td>0.001005</td>\n",
              "      <td>-0.023704</td>\n",
              "      <td>-0.027198</td>\n",
              "      <td>0.012784</td>\n",
              "      <td>0.058695</td>\n",
              "      <td>0.039113</td>\n",
              "      <td>0.011326</td>\n",
              "      <td>-0.068986</td>\n",
              "      <td>0.034642</td>\n",
              "      <td>-0.010704</td>\n",
              "    </tr>\n",
              "    <tr>\n",
              "      <th>DAYS_REGISTRATION</th>\n",
              "      <td>0.041975</td>\n",
              "      <td>0.077191</td>\n",
              "      <td>0.087766</td>\n",
              "      <td>-0.025224</td>\n",
              "      <td>0.183625</td>\n",
              "      <td>0.027805</td>\n",
              "      <td>0.009621</td>\n",
              "      <td>0.038514</td>\n",
              "      <td>0.011546</td>\n",
              "      <td>0.069509</td>\n",
              "      <td>...</td>\n",
              "      <td>-0.003848</td>\n",
              "      <td>-0.075188</td>\n",
              "      <td>0.173415</td>\n",
              "      <td>-0.010908</td>\n",
              "      <td>0.028213</td>\n",
              "      <td>0.036787</td>\n",
              "      <td>0.027560</td>\n",
              "      <td>-0.127205</td>\n",
              "      <td>0.056983</td>\n",
              "      <td>-0.009068</td>\n",
              "    </tr>\n",
              "    <tr>\n",
              "      <th>DAYS_ID_PUBLISH</th>\n",
              "      <td>0.051457</td>\n",
              "      <td>0.000130</td>\n",
              "      <td>0.013661</td>\n",
              "      <td>0.006664</td>\n",
              "      <td>-0.028093</td>\n",
              "      <td>0.008506</td>\n",
              "      <td>-0.006575</td>\n",
              "      <td>0.011267</td>\n",
              "      <td>-0.009289</td>\n",
              "      <td>0.074256</td>\n",
              "      <td>...</td>\n",
              "      <td>-0.000802</td>\n",
              "      <td>-0.037660</td>\n",
              "      <td>-0.020912</td>\n",
              "      <td>0.031676</td>\n",
              "      <td>0.034757</td>\n",
              "      <td>0.048071</td>\n",
              "      <td>0.033938</td>\n",
              "      <td>-0.166828</td>\n",
              "      <td>0.088577</td>\n",
              "      <td>-0.025587</td>\n",
              "    </tr>\n",
              "    <tr>\n",
              "      <th>FLAG_MOBIL</th>\n",
              "      <td>0.000534</td>\n",
              "      <td>-0.002503</td>\n",
              "      <td>-0.002512</td>\n",
              "      <td>-0.001198</td>\n",
              "      <td>0.001043</td>\n",
              "      <td>0.000325</td>\n",
              "      <td>0.001436</td>\n",
              "      <td>0.000149</td>\n",
              "      <td>0.001398</td>\n",
              "      <td>-0.001651</td>\n",
              "      <td>...</td>\n",
              "      <td>-0.000078</td>\n",
              "      <td>0.001128</td>\n",
              "      <td>0.000302</td>\n",
              "      <td>-0.000517</td>\n",
              "      <td>0.000224</td>\n",
              "      <td>0.000417</td>\n",
              "      <td>0.000371</td>\n",
              "      <td>-0.001547</td>\n",
              "      <td>-0.000449</td>\n",
              "      <td>0.000778</td>\n",
              "    </tr>\n",
              "    <tr>\n",
              "      <th>FLAG_EMP_PHONE</th>\n",
              "      <td>0.045982</td>\n",
              "      <td>0.157253</td>\n",
              "      <td>0.154659</td>\n",
              "      <td>-0.070021</td>\n",
              "      <td>0.240999</td>\n",
              "      <td>0.063994</td>\n",
              "      <td>0.065519</td>\n",
              "      <td>0.103530</td>\n",
              "      <td>0.063412</td>\n",
              "      <td>0.307389</td>\n",
              "      <td>...</td>\n",
              "      <td>-0.012819</td>\n",
              "      <td>-0.016131</td>\n",
              "      <td>0.233950</td>\n",
              "      <td>0.091356</td>\n",
              "      <td>0.036640</td>\n",
              "      <td>0.108355</td>\n",
              "      <td>0.096447</td>\n",
              "      <td>-0.630838</td>\n",
              "      <td>-0.021103</td>\n",
              "      <td>0.014756</td>\n",
              "    </tr>\n",
              "    <tr>\n",
              "      <th>FLAG_WORK_PHONE</th>\n",
              "      <td>0.028524</td>\n",
              "      <td>0.034030</td>\n",
              "      <td>0.011471</td>\n",
              "      <td>-0.114043</td>\n",
              "      <td>0.055661</td>\n",
              "      <td>-0.017193</td>\n",
              "      <td>-0.021085</td>\n",
              "      <td>-0.024805</td>\n",
              "      <td>0.000787</td>\n",
              "      <td>0.137629</td>\n",
              "      <td>...</td>\n",
              "      <td>0.021580</td>\n",
              "      <td>0.293105</td>\n",
              "      <td>0.067189</td>\n",
              "      <td>0.036826</td>\n",
              "      <td>0.064484</td>\n",
              "      <td>0.068202</td>\n",
              "      <td>0.041513</td>\n",
              "      <td>-0.140566</td>\n",
              "      <td>-0.041538</td>\n",
              "      <td>-0.017970</td>\n",
              "    </tr>\n",
              "    <tr>\n",
              "      <th>FLAG_CONT_MOBILE</th>\n",
              "      <td>0.000370</td>\n",
              "      <td>-0.006017</td>\n",
              "      <td>-0.006644</td>\n",
              "      <td>0.008526</td>\n",
              "      <td>-0.000798</td>\n",
              "      <td>-0.008290</td>\n",
              "      <td>0.023653</td>\n",
              "      <td>0.022349</td>\n",
              "      <td>0.020696</td>\n",
              "      <td>0.008401</td>\n",
              "      <td>...</td>\n",
              "      <td>1.000000</td>\n",
              "      <td>0.006257</td>\n",
              "      <td>0.000218</td>\n",
              "      <td>-0.001559</td>\n",
              "      <td>0.001044</td>\n",
              "      <td>-0.001324</td>\n",
              "      <td>-0.002923</td>\n",
              "      <td>0.013418</td>\n",
              "      <td>-0.028950</td>\n",
              "      <td>0.005196</td>\n",
              "    </tr>\n",
              "    <tr>\n",
              "      <th>FLAG_PHONE</th>\n",
              "      <td>-0.023806</td>\n",
              "      <td>-0.019429</td>\n",
              "      <td>-0.007588</td>\n",
              "      <td>-0.041507</td>\n",
              "      <td>-0.030017</td>\n",
              "      <td>0.000159</td>\n",
              "      <td>0.026213</td>\n",
              "      <td>0.010799</td>\n",
              "      <td>0.041921</td>\n",
              "      <td>-0.009941</td>\n",
              "      <td>...</td>\n",
              "      <td>0.006257</td>\n",
              "      <td>1.000000</td>\n",
              "      <td>-0.015418</td>\n",
              "      <td>0.059376</td>\n",
              "      <td>0.002078</td>\n",
              "      <td>0.004284</td>\n",
              "      <td>0.005561</td>\n",
              "      <td>-0.001102</td>\n",
              "      <td>-0.067458</td>\n",
              "      <td>0.019649</td>\n",
              "    </tr>\n",
              "    <tr>\n",
              "      <th>CNT_FAM_MEMBERS</th>\n",
              "      <td>0.009308</td>\n",
              "      <td>0.080573</td>\n",
              "      <td>0.149901</td>\n",
              "      <td>0.007350</td>\n",
              "      <td>0.879175</td>\n",
              "      <td>0.016341</td>\n",
              "      <td>0.063160</td>\n",
              "      <td>0.075541</td>\n",
              "      <td>0.061138</td>\n",
              "      <td>0.099144</td>\n",
              "      <td>...</td>\n",
              "      <td>0.000218</td>\n",
              "      <td>-0.015418</td>\n",
              "      <td>1.000000</td>\n",
              "      <td>-0.012227</td>\n",
              "      <td>-0.017133</td>\n",
              "      <td>0.003133</td>\n",
              "      <td>0.011847</td>\n",
              "      <td>-0.138975</td>\n",
              "      <td>-0.027109</td>\n",
              "      <td>-0.003319</td>\n",
              "    </tr>\n",
              "    <tr>\n",
              "      <th>HOUR_APPR_PROCESS_START</th>\n",
              "      <td>-0.024166</td>\n",
              "      <td>0.007177</td>\n",
              "      <td>0.014369</td>\n",
              "      <td>-0.102687</td>\n",
              "      <td>-0.007314</td>\n",
              "      <td>0.036459</td>\n",
              "      <td>0.052738</td>\n",
              "      <td>0.052265</td>\n",
              "      <td>0.062269</td>\n",
              "      <td>-0.029674</td>\n",
              "      <td>...</td>\n",
              "      <td>-0.001559</td>\n",
              "      <td>0.059376</td>\n",
              "      <td>-0.012227</td>\n",
              "      <td>1.000000</td>\n",
              "      <td>0.054894</td>\n",
              "      <td>0.075037</td>\n",
              "      <td>0.060920</td>\n",
              "      <td>-0.083595</td>\n",
              "      <td>-0.014902</td>\n",
              "      <td>0.026793</td>\n",
              "    </tr>\n",
              "    <tr>\n",
              "      <th>REG_REGION_NOT_LIVE_REGION</th>\n",
              "      <td>0.005576</td>\n",
              "      <td>0.023683</td>\n",
              "      <td>-0.000668</td>\n",
              "      <td>-0.036301</td>\n",
              "      <td>-0.013329</td>\n",
              "      <td>0.031191</td>\n",
              "      <td>0.024010</td>\n",
              "      <td>0.041291</td>\n",
              "      <td>0.026119</td>\n",
              "      <td>-0.041006</td>\n",
              "      <td>...</td>\n",
              "      <td>0.001044</td>\n",
              "      <td>0.002078</td>\n",
              "      <td>-0.017133</td>\n",
              "      <td>0.054894</td>\n",
              "      <td>1.000000</td>\n",
              "      <td>0.450804</td>\n",
              "      <td>0.088263</td>\n",
              "      <td>-0.036514</td>\n",
              "      <td>0.037881</td>\n",
              "      <td>-0.003727</td>\n",
              "    </tr>\n",
              "    <tr>\n",
              "      <th>REG_REGION_NOT_WORK_REGION</th>\n",
              "      <td>0.006942</td>\n",
              "      <td>0.103437</td>\n",
              "      <td>0.038937</td>\n",
              "      <td>-0.032316</td>\n",
              "      <td>0.008209</td>\n",
              "      <td>0.062340</td>\n",
              "      <td>0.051929</td>\n",
              "      <td>0.079403</td>\n",
              "      <td>0.053146</td>\n",
              "      <td>-0.021898</td>\n",
              "      <td>...</td>\n",
              "      <td>-0.001324</td>\n",
              "      <td>0.004284</td>\n",
              "      <td>0.003133</td>\n",
              "      <td>0.075037</td>\n",
              "      <td>0.450804</td>\n",
              "      <td>1.000000</td>\n",
              "      <td>0.860627</td>\n",
              "      <td>-0.107266</td>\n",
              "      <td>0.036389</td>\n",
              "      <td>0.000077</td>\n",
              "    </tr>\n",
              "    <tr>\n",
              "      <th>LIVE_REGION_NOT_WORK_REGION</th>\n",
              "      <td>0.002819</td>\n",
              "      <td>0.106060</td>\n",
              "      <td>0.046352</td>\n",
              "      <td>-0.018324</td>\n",
              "      <td>0.014865</td>\n",
              "      <td>0.058059</td>\n",
              "      <td>0.052609</td>\n",
              "      <td>0.074530</td>\n",
              "      <td>0.052829</td>\n",
              "      <td>-0.009141</td>\n",
              "      <td>...</td>\n",
              "      <td>-0.002923</td>\n",
              "      <td>0.005561</td>\n",
              "      <td>0.011847</td>\n",
              "      <td>0.060920</td>\n",
              "      <td>0.088263</td>\n",
              "      <td>0.860627</td>\n",
              "      <td>1.000000</td>\n",
              "      <td>-0.099872</td>\n",
              "      <td>0.021361</td>\n",
              "      <td>0.002115</td>\n",
              "    </tr>\n",
              "    <tr>\n",
              "      <th>ORGANIZATION_TYPE</th>\n",
              "      <td>-0.030765</td>\n",
              "      <td>-0.163879</td>\n",
              "      <td>-0.114162</td>\n",
              "      <td>0.050389</td>\n",
              "      <td>-0.144614</td>\n",
              "      <td>-0.058272</td>\n",
              "      <td>-0.052620</td>\n",
              "      <td>-0.077215</td>\n",
              "      <td>-0.052060</td>\n",
              "      <td>-0.176226</td>\n",
              "      <td>...</td>\n",
              "      <td>0.013418</td>\n",
              "      <td>-0.001102</td>\n",
              "      <td>-0.138975</td>\n",
              "      <td>-0.083595</td>\n",
              "      <td>-0.036514</td>\n",
              "      <td>-0.107266</td>\n",
              "      <td>-0.099872</td>\n",
              "      <td>1.000000</td>\n",
              "      <td>0.011639</td>\n",
              "      <td>-0.020256</td>\n",
              "    </tr>\n",
              "    <tr>\n",
              "      <th>DAYS_LAST_PHONE_CHANGE</th>\n",
              "      <td>0.055218</td>\n",
              "      <td>0.025290</td>\n",
              "      <td>-0.039089</td>\n",
              "      <td>0.027020</td>\n",
              "      <td>-0.005832</td>\n",
              "      <td>-0.018585</td>\n",
              "      <td>-0.073702</td>\n",
              "      <td>-0.063746</td>\n",
              "      <td>-0.076294</td>\n",
              "      <td>0.006285</td>\n",
              "      <td>...</td>\n",
              "      <td>-0.028950</td>\n",
              "      <td>-0.067458</td>\n",
              "      <td>-0.027109</td>\n",
              "      <td>-0.014902</td>\n",
              "      <td>0.037881</td>\n",
              "      <td>0.036389</td>\n",
              "      <td>0.021361</td>\n",
              "      <td>0.011639</td>\n",
              "      <td>1.000000</td>\n",
              "      <td>-0.041654</td>\n",
              "    </tr>\n",
              "    <tr>\n",
              "      <th>credit beauru</th>\n",
              "      <td>-0.014684</td>\n",
              "      <td>-0.002189</td>\n",
              "      <td>0.015556</td>\n",
              "      <td>0.002996</td>\n",
              "      <td>-0.009158</td>\n",
              "      <td>0.025800</td>\n",
              "      <td>0.054452</td>\n",
              "      <td>0.036859</td>\n",
              "      <td>0.056173</td>\n",
              "      <td>-0.023749</td>\n",
              "      <td>...</td>\n",
              "      <td>0.005196</td>\n",
              "      <td>0.019649</td>\n",
              "      <td>-0.003319</td>\n",
              "      <td>0.026793</td>\n",
              "      <td>-0.003727</td>\n",
              "      <td>0.000077</td>\n",
              "      <td>0.002115</td>\n",
              "      <td>-0.020256</td>\n",
              "      <td>-0.041654</td>\n",
              "      <td>1.000000</td>\n",
              "    </tr>\n",
              "  </tbody>\n",
              "</table>\n",
              "<p>28 rows × 28 columns</p>\n",
              "</div>\n",
              "      <button class=\"colab-df-convert\" onclick=\"convertToInteractive('df-eaf639e3-1cb5-4868-a8e9-75bbd021eb42')\"\n",
              "              title=\"Convert this dataframe to an interactive table.\"\n",
              "              style=\"display:none;\">\n",
              "        \n",
              "  <svg xmlns=\"http://www.w3.org/2000/svg\" height=\"24px\"viewBox=\"0 0 24 24\"\n",
              "       width=\"24px\">\n",
              "    <path d=\"M0 0h24v24H0V0z\" fill=\"none\"/>\n",
              "    <path d=\"M18.56 5.44l.94 2.06.94-2.06 2.06-.94-2.06-.94-.94-2.06-.94 2.06-2.06.94zm-11 1L8.5 8.5l.94-2.06 2.06-.94-2.06-.94L8.5 2.5l-.94 2.06-2.06.94zm10 10l.94 2.06.94-2.06 2.06-.94-2.06-.94-.94-2.06-.94 2.06-2.06.94z\"/><path d=\"M17.41 7.96l-1.37-1.37c-.4-.4-.92-.59-1.43-.59-.52 0-1.04.2-1.43.59L10.3 9.45l-7.72 7.72c-.78.78-.78 2.05 0 2.83L4 21.41c.39.39.9.59 1.41.59.51 0 1.02-.2 1.41-.59l7.78-7.78 2.81-2.81c.8-.78.8-2.07 0-2.86zM5.41 20L4 18.59l7.72-7.72 1.47 1.35L5.41 20z\"/>\n",
              "  </svg>\n",
              "      </button>\n",
              "      \n",
              "  <style>\n",
              "    .colab-df-container {\n",
              "      display:flex;\n",
              "      flex-wrap:wrap;\n",
              "      gap: 12px;\n",
              "    }\n",
              "\n",
              "    .colab-df-convert {\n",
              "      background-color: #E8F0FE;\n",
              "      border: none;\n",
              "      border-radius: 50%;\n",
              "      cursor: pointer;\n",
              "      display: none;\n",
              "      fill: #1967D2;\n",
              "      height: 32px;\n",
              "      padding: 0 0 0 0;\n",
              "      width: 32px;\n",
              "    }\n",
              "\n",
              "    .colab-df-convert:hover {\n",
              "      background-color: #E2EBFA;\n",
              "      box-shadow: 0px 1px 2px rgba(60, 64, 67, 0.3), 0px 1px 3px 1px rgba(60, 64, 67, 0.15);\n",
              "      fill: #174EA6;\n",
              "    }\n",
              "\n",
              "    [theme=dark] .colab-df-convert {\n",
              "      background-color: #3B4455;\n",
              "      fill: #D2E3FC;\n",
              "    }\n",
              "\n",
              "    [theme=dark] .colab-df-convert:hover {\n",
              "      background-color: #434B5C;\n",
              "      box-shadow: 0px 1px 3px 1px rgba(0, 0, 0, 0.15);\n",
              "      filter: drop-shadow(0px 1px 2px rgba(0, 0, 0, 0.3));\n",
              "      fill: #FFFFFF;\n",
              "    }\n",
              "  </style>\n",
              "\n",
              "      <script>\n",
              "        const buttonEl =\n",
              "          document.querySelector('#df-eaf639e3-1cb5-4868-a8e9-75bbd021eb42 button.colab-df-convert');\n",
              "        buttonEl.style.display =\n",
              "          google.colab.kernel.accessAllowed ? 'block' : 'none';\n",
              "\n",
              "        async function convertToInteractive(key) {\n",
              "          const element = document.querySelector('#df-eaf639e3-1cb5-4868-a8e9-75bbd021eb42');\n",
              "          const dataTable =\n",
              "            await google.colab.kernel.invokeFunction('convertToInteractive',\n",
              "                                                     [key], {});\n",
              "          if (!dataTable) return;\n",
              "\n",
              "          const docLinkHtml = 'Like what you see? Visit the ' +\n",
              "            '<a target=\"_blank\" href=https://colab.research.google.com/notebooks/data_table.ipynb>data table notebook</a>'\n",
              "            + ' to learn more about interactive tables.';\n",
              "          element.innerHTML = '';\n",
              "          dataTable['output_type'] = 'display_data';\n",
              "          await google.colab.output.renderOutput(dataTable, element);\n",
              "          const docLink = document.createElement('div');\n",
              "          docLink.innerHTML = docLinkHtml;\n",
              "          element.appendChild(docLink);\n",
              "        }\n",
              "      </script>\n",
              "    </div>\n",
              "  </div>\n",
              "  "
            ]
          },
          "metadata": {},
          "execution_count": 22
        }
      ],
      "source": [
        "cor = df.corr()\n",
        "cor"
      ]
    },
    {
      "cell_type": "code",
      "execution_count": null,
      "metadata": {
        "id": "IERV9IIAS49O"
      },
      "outputs": [],
      "source": [
        "import matplotlib.pyplot as plt"
      ]
    },
    {
      "cell_type": "code",
      "execution_count": null,
      "metadata": {
        "id": "g2kPysI1nikI"
      },
      "outputs": [],
      "source": [
        "d=pd.read_csv(\"/content/drive/MyDrive/Colab Notebooks/application_data.csv\")"
      ]
    },
    {
      "cell_type": "code",
      "source": [
        "d[\"CODE_GENDER\"].value_counts()"
      ],
      "metadata": {
        "colab": {
          "base_uri": "https://localhost:8080/"
        },
        "id": "J81_Xkr_UzQA",
        "outputId": "c71f9d58-421a-4e68-8ec9-961f83fcc7b1"
      },
      "execution_count": null,
      "outputs": [
        {
          "output_type": "execute_result",
          "data": {
            "text/plain": [
              "F      202448\n",
              "M      105059\n",
              "XNA         4\n",
              "Name: CODE_GENDER, dtype: int64"
            ]
          },
          "metadata": {},
          "execution_count": 27
        }
      ]
    },
    {
      "cell_type": "code",
      "source": [
        "d1 =d[d[\"CODE_GENDER\"]==\"XNA\"].index"
      ],
      "metadata": {
        "id": "c5Q9laJ9UrkF"
      },
      "execution_count": null,
      "outputs": []
    },
    {
      "cell_type": "code",
      "source": [
        "d.drop(d1,axis=0,inplace=True)"
      ],
      "metadata": {
        "id": "wW56t6TVVg83"
      },
      "execution_count": null,
      "outputs": []
    },
    {
      "cell_type": "code",
      "source": [
        "d[\"CODE_GENDER\"].value_counts()"
      ],
      "metadata": {
        "colab": {
          "base_uri": "https://localhost:8080/"
        },
        "id": "u8zt3SxoWBTT",
        "outputId": "cdf0a79c-d342-4f0c-d999-70569307a403"
      },
      "execution_count": null,
      "outputs": [
        {
          "output_type": "execute_result",
          "data": {
            "text/plain": [
              "F    202448\n",
              "M    105059\n",
              "Name: CODE_GENDER, dtype: int64"
            ]
          },
          "metadata": {},
          "execution_count": 30
        }
      ]
    },
    {
      "cell_type": "code",
      "source": [
        "sns.countplot(x=\"CODE_GENDER\", data = d)"
      ],
      "metadata": {
        "colab": {
          "base_uri": "https://localhost:8080/",
          "height": 356
        },
        "id": "cirr7yEHrufd",
        "outputId": "07ecf005-86bf-4df8-9c8f-612c4a2797f6"
      },
      "execution_count": null,
      "outputs": [
        {
          "output_type": "execute_result",
          "data": {
            "text/plain": [
              "<matplotlib.axes._subplots.AxesSubplot at 0x7f159a0d5290>"
            ]
          },
          "metadata": {},
          "execution_count": 76
        },
        {
          "output_type": "display_data",
          "data": {
            "text/plain": [
              "<Figure size 360x360 with 1 Axes>"
            ],
            "image/png": "[encoded data removed]"
          },
          "metadata": {}
        }
      ]
    },
    {
      "cell_type": "code",
      "source": [
        "sns.countplot(x=\"CNT_CHILDREN\",data=d)"
      ],
      "metadata": {
        "colab": {
          "base_uri": "https://localhost:8080/",
          "height": 356
        },
        "id": "6Mxl14C3sfkc",
        "outputId": "4a5320ac-5d7a-464b-ad61-d0bba3cc5f27"
      },
      "execution_count": null,
      "outputs": [
        {
          "output_type": "execute_result",
          "data": {
            "text/plain": [
              "<matplotlib.axes._subplots.AxesSubplot at 0x7f157b966dd0>"
            ]
          },
          "metadata": {},
          "execution_count": 79
        },
        {
          "output_type": "display_data",
          "data": {
            "text/plain": [
              "<Figure size 360x360 with 1 Axes>"
            ],
            "image/png": "[encoded data removed]"
          },
          "metadata": {}
        }
      ]
    },
    {
      "cell_type": "code",
      "source": [
        "sns.set(rc={'figure.figsize':(20,10)})\n",
        "sns.countplot(x=\"NAME_HOUSING_TYPE\",data=d)"
      ],
      "metadata": {
        "colab": {
          "base_uri": "https://localhost:8080/",
          "height": 628
        },
        "id": "PLoLAENQtSm1",
        "outputId": "5381664d-4578-4e3a-f5d1-b06fdfc398b2"
      },
      "execution_count": null,
      "outputs": [
        {
          "output_type": "execute_result",
          "data": {
            "text/plain": [
              "<matplotlib.axes._subplots.AxesSubplot at 0x7f157b233e10>"
            ]
          },
          "metadata": {},
          "execution_count": 83
        },
        {
          "output_type": "display_data",
          "data": {
            "text/plain": [
              "<Figure size 1440x720 with 1 Axes>"
            ],
            "image/png": "[encoded data removed]"
          },
          "metadata": {}
        }
      ]
    },
    {
      "cell_type": "code",
      "source": [
        "sns.countplot(x=\"NAME_FAMILY_STATUS\",data=d)"
      ],
      "metadata": {
        "colab": {
          "base_uri": "https://localhost:8080/",
          "height": 628
        },
        "id": "VJvJlDNztaZC",
        "outputId": "5625b943-e877-4172-b4db-38cbc8a5c2d6"
      },
      "execution_count": null,
      "outputs": [
        {
          "output_type": "execute_result",
          "data": {
            "text/plain": [
              "<matplotlib.axes._subplots.AxesSubplot at 0x7f157b12f5d0>"
            ]
          },
          "metadata": {},
          "execution_count": 84
        },
        {
          "output_type": "display_data",
          "data": {
            "text/plain": [
              "<Figure size 1440x720 with 1 Axes>"
            ],
            "image/png": "[encoded data removed]"
          },
          "metadata": {}
        }
      ]
    },
    {
      "cell_type": "code",
      "source": [
        "sns.countplot(x=\"NAME_EDUCATION_TYPE\",data=d)"
      ],
      "metadata": {
        "colab": {
          "base_uri": "https://localhost:8080/",
          "height": 628
        },
        "id": "S11ICPpktd9D",
        "outputId": "25418ea7-d410-48ed-cab0-19a4ee22a3de"
      },
      "execution_count": 87,
      "outputs": [
        {
          "output_type": "execute_result",
          "data": {
            "text/plain": [
              "<matplotlib.axes._subplots.AxesSubplot at 0x7f157adb4710>"
            ]
          },
          "metadata": {},
          "execution_count": 87
        },
        {
          "output_type": "display_data",
          "data": {
            "text/plain": [
              "<Figure size 1440x720 with 1 Axes>"
            ],
            "image/png": "[encoded data removed]"
          },
          "metadata": {}
        }
      ]
    },
    {
      "cell_type": "code",
      "source": [
        "sns.countplot(x=\"NAME_INCOME_TYPE\",data=d)"
      ],
      "metadata": {
        "id": "GJm0t5EDtek7",
        "colab": {
          "base_uri": "https://localhost:8080/",
          "height": 628
        },
        "outputId": "6d3d43e1-5bdb-4681-d400-ad3bf66bc86b"
      },
      "execution_count": 89,
      "outputs": [
        {
          "output_type": "execute_result",
          "data": {
            "text/plain": [
              "<matplotlib.axes._subplots.AxesSubplot at 0x7f157ad94e90>"
            ]
          },
          "metadata": {},
          "execution_count": 89
        },
        {
          "output_type": "display_data",
          "data": {
            "text/plain": [
              "<Figure size 1440x720 with 1 Axes>"
            ],
            "image/png": "[encoded data removed]"
          },
          "metadata": {}
        }
      ]
    },
    {
      "cell_type": "code",
      "execution_count": 90,
      "metadata": {
        "id": "CURTg5wjxMkg"
      },
      "outputs": [],
      "source": [
        "df2=df[[\"TARGET\",\"FLAG_OWN_CAR\",\"AMT_INCOME_TOTAL\",\"AMT_CREDIT\",\"AMT_ANNUITY\",\"AMT_GOODS_PRICE\",\"FLAG_PHONE\",\"ORGANIZATION_TYPE\",\"HOUR_APPR_PROCESS_START\",\"CODE_GENDER\",\"CNT_CHILDREN\",\"NAME_INCOME_TYPE\",\"NAME_EDUCATION_TYPE\",\"NAME_HOUSING_TYPE\",\"DAYS_REGISTRATION\",\"DAYS_ID_PUBLISH\",\"FLAG_MOBIL\",\"FLAG_EMP_PHONE\",\"FLAG_CONT_MOBILE\",\"FLAG_WORK_PHONE\",\"CNT_FAM_MEMBERS\",\"REG_REGION_NOT_WORK_REGION\",\"LIVE_REGION_NOT_WORK_REGION\",\"DAYS_LAST_PHONE_CHANGE\",\"REG_REGION_NOT_LIVE_REGION\"]]"
      ]
    },
    {
      "cell_type": "code",
      "source": [
        "df2.info()"
      ],
      "metadata": {
        "colab": {
          "base_uri": "https://localhost:8080/"
        },
        "id": "TP8WzAKcxOoy",
        "outputId": "9f5a1603-f3ad-4315-ccf4-18a0670d0073"
      },
      "execution_count": 91,
      "outputs": [
        {
          "output_type": "stream",
          "name": "stdout",
          "text": [
            "<class 'pandas.core.frame.DataFrame'>\n",
            "RangeIndex: 307511 entries, 0 to 307510\n",
            "Data columns (total 25 columns):\n",
            " #   Column                       Non-Null Count   Dtype  \n",
            "---  ------                       --------------   -----  \n",
            " 0   TARGET                       307511 non-null  int64  \n",
            " 1   FLAG_OWN_CAR                 307511 non-null  int64  \n",
            " 2   AMT_INCOME_TOTAL             307511 non-null  float64\n",
            " 3   AMT_CREDIT                   307511 non-null  float64\n",
            " 4   AMT_ANNUITY                  307511 non-null  float64\n",
            " 5   AMT_GOODS_PRICE              307511 non-null  float64\n",
            " 6   FLAG_PHONE                   307511 non-null  int64  \n",
            " 7   ORGANIZATION_TYPE            307511 non-null  int64  \n",
            " 8   HOUR_APPR_PROCESS_START      307511 non-null  int64  \n",
            " 9   CODE_GENDER                  307511 non-null  int64  \n",
            " 10  CNT_CHILDREN                 307511 non-null  int64  \n",
            " 11  NAME_INCOME_TYPE             307511 non-null  int64  \n",
            " 12  NAME_EDUCATION_TYPE          307511 non-null  int64  \n",
            " 13  NAME_HOUSING_TYPE            307511 non-null  int64  \n",
            " 14  DAYS_REGISTRATION            307511 non-null  float64\n",
            " 15  DAYS_ID_PUBLISH              307511 non-null  int64  \n",
            " 16  FLAG_MOBIL                   307511 non-null  int64  \n",
            " 17  FLAG_EMP_PHONE               307511 non-null  int64  \n",
            " 18  FLAG_CONT_MOBILE             307511 non-null  int64  \n",
            " 19  FLAG_WORK_PHONE              307511 non-null  int64  \n",
            " 20  CNT_FAM_MEMBERS              307511 non-null  float64\n",
            " 21  REG_REGION_NOT_WORK_REGION   307511 non-null  int64  \n",
            " 22  LIVE_REGION_NOT_WORK_REGION  307511 non-null  int64  \n",
            " 23  DAYS_LAST_PHONE_CHANGE       307511 non-null  float64\n",
            " 24  REG_REGION_NOT_LIVE_REGION   307511 non-null  int64  \n",
            "dtypes: float64(7), int64(18)\n",
            "memory usage: 58.7 MB\n"
          ]
        }
      ]
    },
    {
      "cell_type": "code",
      "source": [
        "sns.set(rc={'figure.figsize':(20,10)})\n",
        "sns.countplot(x=\"NAME_HOUSING_TYPE\",hue='TARGET',data=d)"
      ],
      "metadata": {
        "colab": {
          "base_uri": "https://localhost:8080/",
          "height": 628
        },
        "id": "9NZGsFHoyB1x",
        "outputId": "042afaa1-3fd8-492d-94fd-3b2e626c3a24"
      },
      "execution_count": 99,
      "outputs": [
        {
          "output_type": "execute_result",
          "data": {
            "text/plain": [
              "<matplotlib.axes._subplots.AxesSubplot at 0x7f15793ade50>"
            ]
          },
          "metadata": {},
          "execution_count": 99
        },
        {
          "output_type": "display_data",
          "data": {
            "text/plain": [
              "<Figure size 1440x720 with 1 Axes>"
            ],
            "image/png": "[encoded data removed]"
          },
          "metadata": {}
        }
      ]
    },
    {
      "cell_type": "code",
      "source": [
        "sns.set(rc={'figure.figsize':(10,10)})\n",
        "sns.countplot(x=\"CODE_GENDER\", hue= 'TARGET', data = d)"
      ],
      "metadata": {
        "colab": {
          "base_uri": "https://localhost:8080/",
          "height": 628
        },
        "id": "Th8wZk1tWKAS",
        "outputId": "8bc6fd44-a4db-48e4-b86b-13f4678966dd"
      },
      "execution_count": null,
      "outputs": [
        {
          "output_type": "execute_result",
          "data": {
            "text/plain": [
              "<matplotlib.axes._subplots.AxesSubplot at 0x7f159ecf8f90>"
            ]
          },
          "metadata": {},
          "execution_count": 31
        },
        {
          "output_type": "display_data",
          "data": {
            "text/plain": [
              "<Figure size 720x720 with 1 Axes>"
            ],
            "image/png": "[encoded data removed]"
          },
          "metadata": {}
        }
      ]
    },
    {
      "cell_type": "code",
      "execution_count": null,
      "metadata": {
        "colab": {
          "base_uri": "https://localhost:8080/",
          "height": 628
        },
        "id": "4yxWgsQLnQ7h",
        "outputId": "2db8d932-e8a0-41ba-fdd8-efc8f1e0858b"
      },
      "outputs": [
        {
          "output_type": "execute_result",
          "data": {
            "text/plain": [
              "<matplotlib.axes._subplots.AxesSubplot at 0x7f159dfee8d0>"
            ]
          },
          "metadata": {},
          "execution_count": 32
        },
        {
          "output_type": "display_data",
          "data": {
            "text/plain": [
              "<Figure size 1080x720 with 1 Axes>"
            ],
            "image/png": "[encoded data removed]"
          },
          "metadata": {}
        }
      ],
      "source": [
        "sns.set(rc={'figure.figsize':(15,10)})\n",
        "sns.countplot(x='NAME_INCOME_TYPE', hue= 'TARGET', data = d)"
      ]
    },
    {
      "cell_type": "code",
      "execution_count": null,
      "metadata": {
        "colab": {
          "base_uri": "https://localhost:8080/",
          "height": 628
        },
        "id": "YXc9NpumnRjc",
        "outputId": "3f3ffad7-cabc-4008-b2c6-b9b8693bec1a"
      },
      "outputs": [
        {
          "output_type": "execute_result",
          "data": {
            "text/plain": [
              "<matplotlib.axes._subplots.AxesSubplot at 0x7f159ed0bdd0>"
            ]
          },
          "metadata": {},
          "execution_count": 33
        },
        {
          "output_type": "display_data",
          "data": {
            "text/plain": [
              "<Figure size 1080x720 with 1 Axes>"
            ],
            "image/png": "[encoded data removed]"
          },
          "metadata": {}
        }
      ],
      "source": [
        "sns.countplot(x='NAME_EDUCATION_TYPE', hue= 'TARGET', data = d)"
      ]
    },
    {
      "cell_type": "code",
      "execution_count": null,
      "metadata": {
        "colab": {
          "base_uri": "https://localhost:8080/",
          "height": 628
        },
        "id": "e1fVqzfNnR_T",
        "outputId": "9ea25485-c747-4153-936d-286f402d9e88"
      },
      "outputs": [
        {
          "output_type": "execute_result",
          "data": {
            "text/plain": [
              "<matplotlib.axes._subplots.AxesSubplot at 0x7f159de78690>"
            ]
          },
          "metadata": {},
          "execution_count": 34
        },
        {
          "output_type": "display_data",
          "data": {
            "text/plain": [
              "<Figure size 1080x720 with 1 Axes>"
            ],
            "image/png": "[encoded data removed]"
          },
          "metadata": {}
        }
      ],
      "source": [
        "sns.countplot(x='NAME_HOUSING_TYPE', hue= 'TARGET', data = d)"
      ]
    },
    {
      "cell_type": "code",
      "source": [
        "sns.countplot(x='CNT_FAM_MEMBERS', hue= 'TARGET', data = d)\n"
      ],
      "metadata": {
        "colab": {
          "base_uri": "https://localhost:8080/",
          "height": 628
        },
        "id": "p0qr6YnKx03Q",
        "outputId": "b7b10a26-dee0-4627-d308-13bdd1252851"
      },
      "execution_count": null,
      "outputs": [
        {
          "output_type": "execute_result",
          "data": {
            "text/plain": [
              "<matplotlib.axes._subplots.AxesSubplot at 0x7f159dd9c450>"
            ]
          },
          "metadata": {},
          "execution_count": 35
        },
        {
          "output_type": "display_data",
          "data": {
            "text/plain": [
              "<Figure size 1080x720 with 1 Axes>"
            ],
            "image/png": "[encoded data removed]"
          },
          "metadata": {}
        }
      ]
    },
    {
      "cell_type": "code",
      "execution_count": null,
      "metadata": {
        "colab": {
          "base_uri": "https://localhost:8080/",
          "height": 488
        },
        "id": "IgjopwZa3kok",
        "outputId": "00345a79-2281-4d23-a153-58743a9dd0c7"
      },
      "outputs": [
        {
          "output_type": "execute_result",
          "data": {
            "text/plain": [
              "        TARGET  FLAG_OWN_CAR  AMT_INCOME_TOTAL  AMT_CREDIT  AMT_ANNUITY  \\\n",
              "0            1             0          202500.0    406597.5      24700.5   \n",
              "1            0             0          270000.0   1293502.5      35698.5   \n",
              "2            0             1           67500.0    135000.0       6750.0   \n",
              "3            0             0          135000.0    312682.5      29686.5   \n",
              "4            0             0          121500.0    513000.0      21865.5   \n",
              "...        ...           ...               ...         ...          ...   \n",
              "307506       0             0          157500.0    254700.0      27558.0   \n",
              "307507       0             0           72000.0    269550.0      12001.5   \n",
              "307508       0             0          153000.0    677664.0      29979.0   \n",
              "307509       1             0          171000.0    370107.0      20205.0   \n",
              "307510       0             0          157500.0    675000.0      49117.5   \n",
              "\n",
              "        AMT_GOODS_PRICE  FLAG_PHONE  ORGANIZATION_TYPE  \\\n",
              "0              351000.0           1                  5   \n",
              "1             1129500.0           1                 39   \n",
              "2              135000.0           1                 11   \n",
              "3              297000.0           0                  5   \n",
              "4              513000.0           0                 37   \n",
              "...                 ...         ...                ...   \n",
              "307506         225000.0           0                 43   \n",
              "307507         225000.0           1                 57   \n",
              "307508         585000.0           0                 39   \n",
              "307509         319500.0           0                  3   \n",
              "307510         675000.0           1                  5   \n",
              "\n",
              "        HOUR_APPR_PROCESS_START  CODE_GENDER  ...  DAYS_ID_PUBLISH  \\\n",
              "0                            10            1  ...            -2120   \n",
              "1                            11            0  ...             -291   \n",
              "2                             9            1  ...            -2531   \n",
              "3                            17            0  ...            -2437   \n",
              "4                            11            1  ...            -3458   \n",
              "...                         ...          ...  ...              ...   \n",
              "307506                       15            1  ...            -1982   \n",
              "307507                        8            0  ...            -4090   \n",
              "307508                        9            0  ...            -5150   \n",
              "307509                        9            0  ...             -931   \n",
              "307510                       20            0  ...             -410   \n",
              "\n",
              "        FLAG_MOBIL  FLAG_EMP_PHONE  FLAG_CONT_MOBILE  FLAG_WORK_PHONE  \\\n",
              "0                1               1                 1                0   \n",
              "1                1               1                 1                0   \n",
              "2                1               1                 1                1   \n",
              "3                1               1                 1                0   \n",
              "4                1               1                 1                0   \n",
              "...            ...             ...               ...              ...   \n",
              "307506           1               1                 1                0   \n",
              "307507           1               0                 1                0   \n",
              "307508           1               1                 1                0   \n",
              "307509           1               1                 1                0   \n",
              "307510           1               1                 1                1   \n",
              "\n",
              "        CNT_FAM_MEMBERS  REG_REGION_NOT_WORK_REGION  \\\n",
              "0                   1.0                           0   \n",
              "1                   2.0                           0   \n",
              "2                   1.0                           0   \n",
              "3                   2.0                           0   \n",
              "4                   1.0                           0   \n",
              "...                 ...                         ...   \n",
              "307506              1.0                           0   \n",
              "307507              1.0                           0   \n",
              "307508              1.0                           0   \n",
              "307509              2.0                           0   \n",
              "307510              2.0                           0   \n",
              "\n",
              "        LIVE_REGION_NOT_WORK_REGION  DAYS_LAST_PHONE_CHANGE  \\\n",
              "0                                 0                 -1134.0   \n",
              "1                                 0                  -828.0   \n",
              "2                                 0                  -815.0   \n",
              "3                                 0                  -617.0   \n",
              "4                                 0                 -1106.0   \n",
              "...                             ...                     ...   \n",
              "307506                            0                  -273.0   \n",
              "307507                            0                     0.0   \n",
              "307508                            0                 -1909.0   \n",
              "307509                            0                  -322.0   \n",
              "307510                            0                  -787.0   \n",
              "\n",
              "        REG_REGION_NOT_LIVE_REGION  \n",
              "0                                0  \n",
              "1                                0  \n",
              "2                                0  \n",
              "3                                0  \n",
              "4                                0  \n",
              "...                            ...  \n",
              "307506                           0  \n",
              "307507                           0  \n",
              "307508                           0  \n",
              "307509                           0  \n",
              "307510                           0  \n",
              "\n",
              "[307511 rows x 25 columns]"
            ],
            "text/html": [
              "\n",
              "  <div id=\"df-c3401a30-fbab-45a8-84d4-2a26d47b3f6c\">\n",
              "    <div class=\"colab-df-container\">\n",
              "      <div>\n",
              "<style scoped>\n",
              "    .dataframe tbody tr th:only-of-type {\n",
              "        vertical-align: middle;\n",
              "    }\n",
              "\n",
              "    .dataframe tbody tr th {\n",
              "        vertical-align: top;\n",
              "    }\n",
              "\n",
              "    .dataframe thead th {\n",
              "        text-align: right;\n",
              "    }\n",
              "</style>\n",
              "<table border=\"1\" class=\"dataframe\">\n",
              "  <thead>\n",
              "    <tr style=\"text-align: right;\">\n",
              "      <th></th>\n",
              "      <th>TARGET</th>\n",
              "      <th>FLAG_OWN_CAR</th>\n",
              "      <th>AMT_INCOME_TOTAL</th>\n",
              "      <th>AMT_CREDIT</th>\n",
              "      <th>AMT_ANNUITY</th>\n",
              "      <th>AMT_GOODS_PRICE</th>\n",
              "      <th>FLAG_PHONE</th>\n",
              "      <th>ORGANIZATION_TYPE</th>\n",
              "      <th>HOUR_APPR_PROCESS_START</th>\n",
              "      <th>CODE_GENDER</th>\n",
              "      <th>...</th>\n",
              "      <th>DAYS_ID_PUBLISH</th>\n",
              "      <th>FLAG_MOBIL</th>\n",
              "      <th>FLAG_EMP_PHONE</th>\n",
              "      <th>FLAG_CONT_MOBILE</th>\n",
              "      <th>FLAG_WORK_PHONE</th>\n",
              "      <th>CNT_FAM_MEMBERS</th>\n",
              "      <th>REG_REGION_NOT_WORK_REGION</th>\n",
              "      <th>LIVE_REGION_NOT_WORK_REGION</th>\n",
              "      <th>DAYS_LAST_PHONE_CHANGE</th>\n",
              "      <th>REG_REGION_NOT_LIVE_REGION</th>\n",
              "    </tr>\n",
              "  </thead>\n",
              "  <tbody>\n",
              "    <tr>\n",
              "      <th>0</th>\n",
              "      <td>1</td>\n",
              "      <td>0</td>\n",
              "      <td>202500.0</td>\n",
              "      <td>406597.5</td>\n",
              "      <td>24700.5</td>\n",
              "      <td>351000.0</td>\n",
              "      <td>1</td>\n",
              "      <td>5</td>\n",
              "      <td>10</td>\n",
              "      <td>1</td>\n",
              "      <td>...</td>\n",
              "      <td>-2120</td>\n",
              "      <td>1</td>\n",
              "      <td>1</td>\n",
              "      <td>1</td>\n",
              "      <td>0</td>\n",
              "      <td>1.0</td>\n",
              "      <td>0</td>\n",
              "      <td>0</td>\n",
              "      <td>-1134.0</td>\n",
              "      <td>0</td>\n",
              "    </tr>\n",
              "    <tr>\n",
              "      <th>1</th>\n",
              "      <td>0</td>\n",
              "      <td>0</td>\n",
              "      <td>270000.0</td>\n",
              "      <td>1293502.5</td>\n",
              "      <td>35698.5</td>\n",
              "      <td>1129500.0</td>\n",
              "      <td>1</td>\n",
              "      <td>39</td>\n",
              "      <td>11</td>\n",
              "      <td>0</td>\n",
              "      <td>...</td>\n",
              "      <td>-291</td>\n",
              "      <td>1</td>\n",
              "      <td>1</td>\n",
              "      <td>1</td>\n",
              "      <td>0</td>\n",
              "      <td>2.0</td>\n",
              "      <td>0</td>\n",
              "      <td>0</td>\n",
              "      <td>-828.0</td>\n",
              "      <td>0</td>\n",
              "    </tr>\n",
              "    <tr>\n",
              "      <th>2</th>\n",
              "      <td>0</td>\n",
              "      <td>1</td>\n",
              "      <td>67500.0</td>\n",
              "      <td>135000.0</td>\n",
              "      <td>6750.0</td>\n",
              "      <td>135000.0</td>\n",
              "      <td>1</td>\n",
              "      <td>11</td>\n",
              "      <td>9</td>\n",
              "      <td>1</td>\n",
              "      <td>...</td>\n",
              "      <td>-2531</td>\n",
              "      <td>1</td>\n",
              "      <td>1</td>\n",
              "      <td>1</td>\n",
              "      <td>1</td>\n",
              "      <td>1.0</td>\n",
              "      <td>0</td>\n",
              "      <td>0</td>\n",
              "      <td>-815.0</td>\n",
              "      <td>0</td>\n",
              "    </tr>\n",
              "    <tr>\n",
              "      <th>3</th>\n",
              "      <td>0</td>\n",
              "      <td>0</td>\n",
              "      <td>135000.0</td>\n",
              "      <td>312682.5</td>\n",
              "      <td>29686.5</td>\n",
              "      <td>297000.0</td>\n",
              "      <td>0</td>\n",
              "      <td>5</td>\n",
              "      <td>17</td>\n",
              "      <td>0</td>\n",
              "      <td>...</td>\n",
              "      <td>-2437</td>\n",
              "      <td>1</td>\n",
              "      <td>1</td>\n",
              "      <td>1</td>\n",
              "      <td>0</td>\n",
              "      <td>2.0</td>\n",
              "      <td>0</td>\n",
              "      <td>0</td>\n",
              "      <td>-617.0</td>\n",
              "      <td>0</td>\n",
              "    </tr>\n",
              "    <tr>\n",
              "      <th>4</th>\n",
              "      <td>0</td>\n",
              "      <td>0</td>\n",
              "      <td>121500.0</td>\n",
              "      <td>513000.0</td>\n",
              "      <td>21865.5</td>\n",
              "      <td>513000.0</td>\n",
              "      <td>0</td>\n",
              "      <td>37</td>\n",
              "      <td>11</td>\n",
              "      <td>1</td>\n",
              "      <td>...</td>\n",
              "      <td>-3458</td>\n",
              "      <td>1</td>\n",
              "      <td>1</td>\n",
              "      <td>1</td>\n",
              "      <td>0</td>\n",
              "      <td>1.0</td>\n",
              "      <td>0</td>\n",
              "      <td>0</td>\n",
              "      <td>-1106.0</td>\n",
              "      <td>0</td>\n",
              "    </tr>\n",
              "    <tr>\n",
              "      <th>...</th>\n",
              "      <td>...</td>\n",
              "      <td>...</td>\n",
              "      <td>...</td>\n",
              "      <td>...</td>\n",
              "      <td>...</td>\n",
              "      <td>...</td>\n",
              "      <td>...</td>\n",
              "      <td>...</td>\n",
              "      <td>...</td>\n",
              "      <td>...</td>\n",
              "      <td>...</td>\n",
              "      <td>...</td>\n",
              "      <td>...</td>\n",
              "      <td>...</td>\n",
              "      <td>...</td>\n",
              "      <td>...</td>\n",
              "      <td>...</td>\n",
              "      <td>...</td>\n",
              "      <td>...</td>\n",
              "      <td>...</td>\n",
              "      <td>...</td>\n",
              "    </tr>\n",
              "    <tr>\n",
              "      <th>307506</th>\n",
              "      <td>0</td>\n",
              "      <td>0</td>\n",
              "      <td>157500.0</td>\n",
              "      <td>254700.0</td>\n",
              "      <td>27558.0</td>\n",
              "      <td>225000.0</td>\n",
              "      <td>0</td>\n",
              "      <td>43</td>\n",
              "      <td>15</td>\n",
              "      <td>1</td>\n",
              "      <td>...</td>\n",
              "      <td>-1982</td>\n",
              "      <td>1</td>\n",
              "      <td>1</td>\n",
              "      <td>1</td>\n",
              "      <td>0</td>\n",
              "      <td>1.0</td>\n",
              "      <td>0</td>\n",
              "      <td>0</td>\n",
              "      <td>-273.0</td>\n",
              "      <td>0</td>\n",
              "    </tr>\n",
              "    <tr>\n",
              "      <th>307507</th>\n",
              "      <td>0</td>\n",
              "      <td>0</td>\n",
              "      <td>72000.0</td>\n",
              "      <td>269550.0</td>\n",
              "      <td>12001.5</td>\n",
              "      <td>225000.0</td>\n",
              "      <td>1</td>\n",
              "      <td>57</td>\n",
              "      <td>8</td>\n",
              "      <td>0</td>\n",
              "      <td>...</td>\n",
              "      <td>-4090</td>\n",
              "      <td>1</td>\n",
              "      <td>0</td>\n",
              "      <td>1</td>\n",
              "      <td>0</td>\n",
              "      <td>1.0</td>\n",
              "      <td>0</td>\n",
              "      <td>0</td>\n",
              "      <td>0.0</td>\n",
              "      <td>0</td>\n",
              "    </tr>\n",
              "    <tr>\n",
              "      <th>307508</th>\n",
              "      <td>0</td>\n",
              "      <td>0</td>\n",
              "      <td>153000.0</td>\n",
              "      <td>677664.0</td>\n",
              "      <td>29979.0</td>\n",
              "      <td>585000.0</td>\n",
              "      <td>0</td>\n",
              "      <td>39</td>\n",
              "      <td>9</td>\n",
              "      <td>0</td>\n",
              "      <td>...</td>\n",
              "      <td>-5150</td>\n",
              "      <td>1</td>\n",
              "      <td>1</td>\n",
              "      <td>1</td>\n",
              "      <td>0</td>\n",
              "      <td>1.0</td>\n",
              "      <td>0</td>\n",
              "      <td>0</td>\n",
              "      <td>-1909.0</td>\n",
              "      <td>0</td>\n",
              "    </tr>\n",
              "    <tr>\n",
              "      <th>307509</th>\n",
              "      <td>1</td>\n",
              "      <td>0</td>\n",
              "      <td>171000.0</td>\n",
              "      <td>370107.0</td>\n",
              "      <td>20205.0</td>\n",
              "      <td>319500.0</td>\n",
              "      <td>0</td>\n",
              "      <td>3</td>\n",
              "      <td>9</td>\n",
              "      <td>0</td>\n",
              "      <td>...</td>\n",
              "      <td>-931</td>\n",
              "      <td>1</td>\n",
              "      <td>1</td>\n",
              "      <td>1</td>\n",
              "      <td>0</td>\n",
              "      <td>2.0</td>\n",
              "      <td>0</td>\n",
              "      <td>0</td>\n",
              "      <td>-322.0</td>\n",
              "      <td>0</td>\n",
              "    </tr>\n",
              "    <tr>\n",
              "      <th>307510</th>\n",
              "      <td>0</td>\n",
              "      <td>0</td>\n",
              "      <td>157500.0</td>\n",
              "      <td>675000.0</td>\n",
              "      <td>49117.5</td>\n",
              "      <td>675000.0</td>\n",
              "      <td>1</td>\n",
              "      <td>5</td>\n",
              "      <td>20</td>\n",
              "      <td>0</td>\n",
              "      <td>...</td>\n",
              "      <td>-410</td>\n",
              "      <td>1</td>\n",
              "      <td>1</td>\n",
              "      <td>1</td>\n",
              "      <td>1</td>\n",
              "      <td>2.0</td>\n",
              "      <td>0</td>\n",
              "      <td>0</td>\n",
              "      <td>-787.0</td>\n",
              "      <td>0</td>\n",
              "    </tr>\n",
              "  </tbody>\n",
              "</table>\n",
              "<p>307511 rows × 25 columns</p>\n",
              "</div>\n",
              "      <button class=\"colab-df-convert\" onclick=\"convertToInteractive('df-c3401a30-fbab-45a8-84d4-2a26d47b3f6c')\"\n",
              "              title=\"Convert this dataframe to an interactive table.\"\n",
              "              style=\"display:none;\">\n",
              "        \n",
              "  <svg xmlns=\"http://www.w3.org/2000/svg\" height=\"24px\"viewBox=\"0 0 24 24\"\n",
              "       width=\"24px\">\n",
              "    <path d=\"M0 0h24v24H0V0z\" fill=\"none\"/>\n",
              "    <path d=\"M18.56 5.44l.94 2.06.94-2.06 2.06-.94-2.06-.94-.94-2.06-.94 2.06-2.06.94zm-11 1L8.5 8.5l.94-2.06 2.06-.94-2.06-.94L8.5 2.5l-.94 2.06-2.06.94zm10 10l.94 2.06.94-2.06 2.06-.94-2.06-.94-.94-2.06-.94 2.06-2.06.94z\"/><path d=\"M17.41 7.96l-1.37-1.37c-.4-.4-.92-.59-1.43-.59-.52 0-1.04.2-1.43.59L10.3 9.45l-7.72 7.72c-.78.78-.78 2.05 0 2.83L4 21.41c.39.39.9.59 1.41.59.51 0 1.02-.2 1.41-.59l7.78-7.78 2.81-2.81c.8-.78.8-2.07 0-2.86zM5.41 20L4 18.59l7.72-7.72 1.47 1.35L5.41 20z\"/>\n",
              "  </svg>\n",
              "      </button>\n",
              "      \n",
              "  <style>\n",
              "    .colab-df-container {\n",
              "      display:flex;\n",
              "      flex-wrap:wrap;\n",
              "      gap: 12px;\n",
              "    }\n",
              "\n",
              "    .colab-df-convert {\n",
              "      background-color: #E8F0FE;\n",
              "      border: none;\n",
              "      border-radius: 50%;\n",
              "      cursor: pointer;\n",
              "      display: none;\n",
              "      fill: #1967D2;\n",
              "      height: 32px;\n",
              "      padding: 0 0 0 0;\n",
              "      width: 32px;\n",
              "    }\n",
              "\n",
              "    .colab-df-convert:hover {\n",
              "      background-color: #E2EBFA;\n",
              "      box-shadow: 0px 1px 2px rgba(60, 64, 67, 0.3), 0px 1px 3px 1px rgba(60, 64, 67, 0.15);\n",
              "      fill: #174EA6;\n",
              "    }\n",
              "\n",
              "    [theme=dark] .colab-df-convert {\n",
              "      background-color: #3B4455;\n",
              "      fill: #D2E3FC;\n",
              "    }\n",
              "\n",
              "    [theme=dark] .colab-df-convert:hover {\n",
              "      background-color: #434B5C;\n",
              "      box-shadow: 0px 1px 3px 1px rgba(0, 0, 0, 0.15);\n",
              "      filter: drop-shadow(0px 1px 2px rgba(0, 0, 0, 0.3));\n",
              "      fill: #FFFFFF;\n",
              "    }\n",
              "  </style>\n",
              "\n",
              "      <script>\n",
              "        const buttonEl =\n",
              "          document.querySelector('#df-c3401a30-fbab-45a8-84d4-2a26d47b3f6c button.colab-df-convert');\n",
              "        buttonEl.style.display =\n",
              "          google.colab.kernel.accessAllowed ? 'block' : 'none';\n",
              "\n",
              "        async function convertToInteractive(key) {\n",
              "          const element = document.querySelector('#df-c3401a30-fbab-45a8-84d4-2a26d47b3f6c');\n",
              "          const dataTable =\n",
              "            await google.colab.kernel.invokeFunction('convertToInteractive',\n",
              "                                                     [key], {});\n",
              "          if (!dataTable) return;\n",
              "\n",
              "          const docLinkHtml = 'Like what you see? Visit the ' +\n",
              "            '<a target=\"_blank\" href=https://colab.research.google.com/notebooks/data_table.ipynb>data table notebook</a>'\n",
              "            + ' to learn more about interactive tables.';\n",
              "          element.innerHTML = '';\n",
              "          dataTable['output_type'] = 'display_data';\n",
              "          await google.colab.output.renderOutput(dataTable, element);\n",
              "          const docLink = document.createElement('div');\n",
              "          docLink.innerHTML = docLinkHtml;\n",
              "          element.appendChild(docLink);\n",
              "        }\n",
              "      </script>\n",
              "    </div>\n",
              "  </div>\n",
              "  "
            ]
          },
          "metadata": {},
          "execution_count": 36
        }
      ],
      "source": [
        "df2"
      ]
    },
    {
      "cell_type": "code",
      "source": [
        "sns.set(rc={'figure.figsize':(5,5)})\n",
        "sns.countplot(x='REG_REGION_NOT_WORK_REGION', hue= 'TARGET', data = d)"
      ],
      "metadata": {
        "colab": {
          "base_uri": "https://localhost:8080/",
          "height": 356
        },
        "id": "SN7orXu9zcE0",
        "outputId": "1af22ce3-72cb-4219-f3ba-071508aba500"
      },
      "execution_count": null,
      "outputs": [
        {
          "output_type": "execute_result",
          "data": {
            "text/plain": [
              "<matplotlib.axes._subplots.AxesSubplot at 0x7f159dd9f4d0>"
            ]
          },
          "metadata": {},
          "execution_count": 37
        },
        {
          "output_type": "display_data",
          "data": {
            "text/plain": [
              "<Figure size 360x360 with 1 Axes>"
            ],
            "image/png": "[encoded data removed]"
          },
          "metadata": {}
        }
      ]
    },
    {
      "cell_type": "code",
      "source": [
        "sns.countplot(x='LIVE_REGION_NOT_WORK_REGION', hue= 'TARGET', data = d)"
      ],
      "metadata": {
        "colab": {
          "base_uri": "https://localhost:8080/",
          "height": 356
        },
        "id": "s5pInolSzdeG",
        "outputId": "cf69a5e3-e6f4-483c-bc19-f39caa7b52ea"
      },
      "execution_count": null,
      "outputs": [
        {
          "output_type": "execute_result",
          "data": {
            "text/plain": [
              "<matplotlib.axes._subplots.AxesSubplot at 0x7f159dc68290>"
            ]
          },
          "metadata": {},
          "execution_count": 38
        },
        {
          "output_type": "display_data",
          "data": {
            "text/plain": [
              "<Figure size 360x360 with 1 Axes>"
            ],
            "image/png": "[encoded data removed]"
          },
          "metadata": {}
        }
      ]
    },
    {
      "cell_type": "code",
      "source": [
        "sns.countplot(x='REG_REGION_NOT_LIVE_REGION', hue= 'TARGET', data = d)"
      ],
      "metadata": {
        "colab": {
          "base_uri": "https://localhost:8080/",
          "height": 356
        },
        "id": "wtArm79Azylr",
        "outputId": "578515f8-52e1-40d7-f4e1-43a5627212ee"
      },
      "execution_count": null,
      "outputs": [
        {
          "output_type": "execute_result",
          "data": {
            "text/plain": [
              "<matplotlib.axes._subplots.AxesSubplot at 0x7f159dbd2290>"
            ]
          },
          "metadata": {},
          "execution_count": 39
        },
        {
          "output_type": "display_data",
          "data": {
            "text/plain": [
              "<Figure size 360x360 with 1 Axes>"
            ],
            "image/png": "[encoded data removed]"
          },
          "metadata": {}
        }
      ]
    },
    {
      "cell_type": "code",
      "execution_count": null,
      "metadata": {
        "id": "Sk_VV21QPVO0"
      },
      "outputs": [],
      "source": [
        "x=df2.drop([\"TARGET\"],axis=1)"
      ]
    },
    {
      "cell_type": "code",
      "execution_count": null,
      "metadata": {
        "id": "A2q92-l8PgV4"
      },
      "outputs": [],
      "source": [
        "y=df2[\"TARGET\"]"
      ]
    },
    {
      "cell_type": "code",
      "execution_count": null,
      "metadata": {
        "colab": {
          "base_uri": "https://localhost:8080/"
        },
        "id": "P96vp06NlK2W",
        "outputId": "a3d46eb7-3077-458e-b378-f4ad4898391e"
      },
      "outputs": [
        {
          "output_type": "execute_result",
          "data": {
            "text/plain": [
              "Index(['TARGET', 'FLAG_OWN_CAR', 'AMT_INCOME_TOTAL', 'AMT_CREDIT',\n",
              "       'AMT_ANNUITY', 'AMT_GOODS_PRICE', 'FLAG_PHONE', 'ORGANIZATION_TYPE',\n",
              "       'HOUR_APPR_PROCESS_START', 'CODE_GENDER', 'CNT_CHILDREN',\n",
              "       'NAME_INCOME_TYPE', 'NAME_EDUCATION_TYPE', 'NAME_HOUSING_TYPE',\n",
              "       'DAYS_REGISTRATION', 'DAYS_ID_PUBLISH', 'FLAG_MOBIL', 'FLAG_EMP_PHONE',\n",
              "       'FLAG_CONT_MOBILE', 'FLAG_WORK_PHONE', 'CNT_FAM_MEMBERS',\n",
              "       'REG_REGION_NOT_WORK_REGION', 'LIVE_REGION_NOT_WORK_REGION',\n",
              "       'DAYS_LAST_PHONE_CHANGE', 'REG_REGION_NOT_LIVE_REGION'],\n",
              "      dtype='object')"
            ]
          },
          "metadata": {},
          "execution_count": 75
        }
      ],
      "source": [
        "df2.columns"
      ]
    },
    {
      "cell_type": "markdown",
      "metadata": {
        "id": "ymsiC-7REOqc"
      },
      "source": [
        "In cases with balanced data, we can generate a train/test set simply by randomly assigning 30% of the data to a test set. However, in imbalanced data, this should be avoided. There is a big risk of ending up with almost no cases of the minority class in the test set.\n",
        "\n",
        "**Stratified sampling** is a solution to this.**Stratified sampling will force the same class balance on the train and test dataset as the original data**. You can do stratified sampling using scikitlearn’s train_test_split "
      ]
    },
    {
      "cell_type": "code",
      "execution_count": null,
      "metadata": {
        "colab": {
          "base_uri": "https://localhost:8080/"
        },
        "id": "FiSpueMpPSzl",
        "outputId": "3505f9a0-1e90-44e3-e46e-080b6323adee"
      },
      "outputs": [
        {
          "output_type": "stream",
          "name": "stdout",
          "text": [
            "        FLAG_OWN_CAR  AMT_INCOME_TOTAL  AMT_CREDIT  AMT_ANNUITY  \\\n",
            "148021             0          157500.0    860112.0      26208.0   \n",
            "252096             0          202500.0    585000.0      29250.0   \n",
            "53895              0          135000.0    808650.0      23773.5   \n",
            "232410             0          180000.0    545040.0      36553.5   \n",
            "63773              0          112500.0    942300.0      30528.0   \n",
            "...              ...               ...         ...          ...   \n",
            "120465             1          315000.0   1339884.0      43222.5   \n",
            "123147             1          121500.0    135000.0      13482.0   \n",
            "209211             0           90000.0    568800.0      16429.5   \n",
            "164417             0          216000.0    450000.0      22018.5   \n",
            "291294             0          225000.0    284400.0      18306.0   \n",
            "\n",
            "        AMT_GOODS_PRICE  FLAG_PHONE  ORGANIZATION_TYPE  \\\n",
            "148021         742500.0           0                 51   \n",
            "252096         585000.0           1                 42   \n",
            "53895          675000.0           0                 51   \n",
            "232410         450000.0           0                 42   \n",
            "63773          675000.0           0                 40   \n",
            "...                 ...         ...                ...   \n",
            "120465        1170000.0           0                 42   \n",
            "123147         135000.0           1                 28   \n",
            "209211         450000.0           0                  5   \n",
            "164417         450000.0           1                 57   \n",
            "291294         225000.0           0                 33   \n",
            "\n",
            "        HOUR_APPR_PROCESS_START  CODE_GENDER  CNT_CHILDREN  ...  \\\n",
            "148021                       14            0             0  ...   \n",
            "252096                       11            0             1  ...   \n",
            "53895                        12            0             0  ...   \n",
            "232410                       11            0             0  ...   \n",
            "63773                         9            0             0  ...   \n",
            "...                         ...          ...           ...  ...   \n",
            "120465                        9            0             0  ...   \n",
            "123147                       12            1             1  ...   \n",
            "209211                       11            0             1  ...   \n",
            "164417                        8            1             0  ...   \n",
            "291294                       15            0             0  ...   \n",
            "\n",
            "        DAYS_ID_PUBLISH  FLAG_MOBIL  FLAG_EMP_PHONE  FLAG_CONT_MOBILE  \\\n",
            "148021            -3546           1               1                 1   \n",
            "252096            -3393           1               1                 1   \n",
            "53895             -4980           1               1                 1   \n",
            "232410            -3753           1               1                 1   \n",
            "63773             -1739           1               1                 1   \n",
            "...                 ...         ...             ...               ...   \n",
            "120465            -4058           1               1                 1   \n",
            "123147            -2540           1               1                 1   \n",
            "209211            -4025           1               1                 1   \n",
            "164417            -4407           1               0                 1   \n",
            "291294            -4200           1               1                 1   \n",
            "\n",
            "        FLAG_WORK_PHONE  CNT_FAM_MEMBERS  REG_REGION_NOT_WORK_REGION  \\\n",
            "148021                0              2.0                           0   \n",
            "252096                0              3.0                           0   \n",
            "53895                 0              2.0                           1   \n",
            "232410                0              2.0                           0   \n",
            "63773                 0              2.0                           0   \n",
            "...                 ...              ...                         ...   \n",
            "120465                1              2.0                           0   \n",
            "123147                1              3.0                           0   \n",
            "209211                0              3.0                           1   \n",
            "164417                0              2.0                           0   \n",
            "291294                0              2.0                           0   \n",
            "\n",
            "        LIVE_REGION_NOT_WORK_REGION  DAYS_LAST_PHONE_CHANGE  \\\n",
            "148021                            0                  -779.0   \n",
            "252096                            0                 -1740.0   \n",
            "53895                             0                     0.0   \n",
            "232410                            0                  -381.0   \n",
            "63773                             0                 -2146.0   \n",
            "...                             ...                     ...   \n",
            "120465                            0                  -821.0   \n",
            "123147                            0                 -2452.0   \n",
            "209211                            1                 -1432.0   \n",
            "164417                            0                     0.0   \n",
            "291294                            0                 -1838.0   \n",
            "\n",
            "        REG_REGION_NOT_LIVE_REGION  \n",
            "148021                           0  \n",
            "252096                           0  \n",
            "53895                            1  \n",
            "232410                           0  \n",
            "63773                            0  \n",
            "...                            ...  \n",
            "120465                           0  \n",
            "123147                           0  \n",
            "209211                           0  \n",
            "164417                           0  \n",
            "291294                           0  \n",
            "\n",
            "[276759 rows x 24 columns]\n",
            "148021    0\n",
            "252096    0\n",
            "53895     0\n",
            "232410    0\n",
            "63773     0\n",
            "         ..\n",
            "120465    0\n",
            "123147    0\n",
            "209211    0\n",
            "164417    0\n",
            "291294    0\n",
            "Name: TARGET, Length: 276759, dtype: int64\n",
            "        FLAG_OWN_CAR  AMT_INCOME_TOTAL  AMT_CREDIT  AMT_ANNUITY  \\\n",
            "81523              0           67500.0    376920.0      20574.0   \n",
            "182241             0          270000.0    540000.0      27000.0   \n",
            "31786              0           81000.0    640080.0      31261.5   \n",
            "120690             1          202500.0   1762110.0      46611.0   \n",
            "208959             1          135000.0    239850.0      24336.0   \n",
            "...              ...               ...         ...          ...   \n",
            "255034             1          157500.0   1256400.0      44644.5   \n",
            "42871              0          135000.0   1125000.0      30168.0   \n",
            "215908             0          157500.0    824823.0      24246.0   \n",
            "157590             0          157500.0    474048.0      25843.5   \n",
            "211017             0          157500.0   1024290.0      29947.5   \n",
            "\n",
            "        AMT_GOODS_PRICE  FLAG_PHONE  ORGANIZATION_TYPE  \\\n",
            "81523          270000.0           1                  5   \n",
            "182241         540000.0           0                 42   \n",
            "31786          450000.0           0                 30   \n",
            "120690        1575000.0           0                 31   \n",
            "208959         225000.0           0                  5   \n",
            "...                 ...         ...                ...   \n",
            "255034         900000.0           0                 11   \n",
            "42871         1125000.0           1                 33   \n",
            "215908         688500.0           0                 28   \n",
            "157590         360000.0           0                 35   \n",
            "211017         855000.0           1                  5   \n",
            "\n",
            "        HOUR_APPR_PROCESS_START  CODE_GENDER  CNT_CHILDREN  ...  \\\n",
            "81523                         9            1             0  ...   \n",
            "182241                       14            1             0  ...   \n",
            "31786                        11            0             2  ...   \n",
            "120690                       13            1             0  ...   \n",
            "208959                       10            1             0  ...   \n",
            "...                         ...          ...           ...  ...   \n",
            "255034                       15            0             2  ...   \n",
            "42871                        15            0             0  ...   \n",
            "215908                       10            0             0  ...   \n",
            "157590                       14            0             0  ...   \n",
            "211017                        9            1             0  ...   \n",
            "\n",
            "        DAYS_ID_PUBLISH  FLAG_MOBIL  FLAG_EMP_PHONE  FLAG_CONT_MOBILE  \\\n",
            "81523             -2970           1               1                 1   \n",
            "182241            -3849           1               1                 1   \n",
            "31786             -1937           1               1                 1   \n",
            "120690            -4626           1               1                 1   \n",
            "208959            -2602           1               1                 1   \n",
            "...                 ...         ...             ...               ...   \n",
            "255034            -2075           1               1                 1   \n",
            "42871             -4589           1               1                 1   \n",
            "215908            -3029           1               1                 1   \n",
            "157590            -1402           1               1                 1   \n",
            "211017             -468           1               1                 1   \n",
            "\n",
            "        FLAG_WORK_PHONE  CNT_FAM_MEMBERS  REG_REGION_NOT_WORK_REGION  \\\n",
            "81523                 1              1.0                           0   \n",
            "182241                0              2.0                           0   \n",
            "31786                 0              4.0                           0   \n",
            "120690                0              2.0                           0   \n",
            "208959                0              1.0                           0   \n",
            "...                 ...              ...                         ...   \n",
            "255034                0              4.0                           0   \n",
            "42871                 1              1.0                           0   \n",
            "215908                0              2.0                           0   \n",
            "157590                0              2.0                           0   \n",
            "211017                0              2.0                           0   \n",
            "\n",
            "        LIVE_REGION_NOT_WORK_REGION  DAYS_LAST_PHONE_CHANGE  \\\n",
            "81523                             0                  -542.0   \n",
            "182241                            0                 -2069.0   \n",
            "31786                             0                  -256.0   \n",
            "120690                            0                 -1486.0   \n",
            "208959                            0                 -2326.0   \n",
            "...                             ...                     ...   \n",
            "255034                            0                  -924.0   \n",
            "42871                             0                 -2555.0   \n",
            "215908                            0                  -515.0   \n",
            "157590                            0                  -286.0   \n",
            "211017                            0                  -769.0   \n",
            "\n",
            "        REG_REGION_NOT_LIVE_REGION  \n",
            "81523                            0  \n",
            "182241                           0  \n",
            "31786                            0  \n",
            "120690                           0  \n",
            "208959                           0  \n",
            "...                            ...  \n",
            "255034                           0  \n",
            "42871                            0  \n",
            "215908                           0  \n",
            "157590                           0  \n",
            "211017                           0  \n",
            "\n",
            "[30752 rows x 24 columns]\n",
            "81523     0\n",
            "182241    0\n",
            "31786     1\n",
            "120690    0\n",
            "208959    0\n",
            "         ..\n",
            "255034    0\n",
            "42871     0\n",
            "215908    0\n",
            "157590    0\n",
            "211017    0\n",
            "Name: TARGET, Length: 30752, dtype: int64\n"
          ]
        }
      ],
      "source": [
        "from sklearn.model_selection import train_test_split\n",
        "X_train, X_test, y_train, y_test = train_test_split(x, y,test_size=0.1 ,random_state=0,stratify=df.TARGET)\n",
        "print(X_train)\n",
        "print(y_train)\n",
        "print(X_test)\n",
        "print(y_test)"
      ]
    },
    {
      "cell_type": "code",
      "execution_count": null,
      "metadata": {
        "id": "HbEHsbD0FQOs"
      },
      "outputs": [],
      "source": [
        "#from imblearn.over_sampling import SMOTE"
      ]
    },
    {
      "cell_type": "markdown",
      "metadata": {
        "id": "a37FQ75BPFCR"
      },
      "source": [
        "SMOTE"
      ]
    },
    {
      "cell_type": "code",
      "execution_count": null,
      "metadata": {
        "id": "0o2UbX-LFekd"
      },
      "outputs": [],
      "source": [
        "#X_train, y_train= SMOTE(sampling_strategy='minority').fit_resample(X_train, y_train)"
      ]
    },
    {
      "cell_type": "markdown",
      "metadata": {
        "id": "swGQZd50PGmy"
      },
      "source": [
        "undersample"
      ]
    },
    {
      "cell_type": "code",
      "execution_count": null,
      "metadata": {
        "id": "yxZVVCXKPUuZ"
      },
      "outputs": [],
      "source": [
        "# from imblearn.under_sampling import RandomUnderSampler\n",
        "# undersample = RandomUnderSampler(sampling_strategy='majority')"
      ]
    },
    {
      "cell_type": "code",
      "execution_count": null,
      "metadata": {
        "id": "bDSKw4l7PET7"
      },
      "outputs": [],
      "source": [
        "#X_train, y_train = undersample.fit_resample(X_train, y_train)"
      ]
    },
    {
      "cell_type": "code",
      "execution_count": null,
      "metadata": {
        "id": "2OFfKir_SiLB"
      },
      "outputs": [],
      "source": [
        "from imblearn.over_sampling import RandomOverSampler\n",
        "oversample = RandomOverSampler(sampling_strategy='minority')\n",
        "X_train, y_train = oversample.fit_resample(X_train, y_train)"
      ]
    },
    {
      "cell_type": "code",
      "execution_count": null,
      "metadata": {
        "colab": {
          "base_uri": "https://localhost:8080/"
        },
        "id": "bnSUKeCV30zX",
        "outputId": "9cf274e5-9fa1-47fe-a4d4-ac49b929cd3b"
      },
      "outputs": [
        {
          "output_type": "execute_result",
          "data": {
            "text/plain": [
              "0    254417\n",
              "1    254417\n",
              "Name: TARGET, dtype: int64"
            ]
          },
          "metadata": {},
          "execution_count": 49
        }
      ],
      "source": [
        "y_train.value_counts()"
      ]
    },
    {
      "cell_type": "code",
      "execution_count": null,
      "metadata": {
        "colab": {
          "base_uri": "https://localhost:8080/",
          "height": 356
        },
        "id": "Wik1Ama8HBHr",
        "outputId": "30325031-b977-4995-d950-5482f40e9174"
      },
      "outputs": [
        {
          "output_type": "execute_result",
          "data": {
            "text/plain": [
              "<matplotlib.axes._subplots.AxesSubplot at 0x7f159ccb0950>"
            ]
          },
          "metadata": {},
          "execution_count": 50
        },
        {
          "output_type": "display_data",
          "data": {
            "text/plain": [
              "<Figure size 360x360 with 1 Axes>"
            ],
            "image/png": "[encoded data removed]"
          },
          "metadata": {}
        }
      ],
      "source": [
        "sns.countplot(x=y_train)"
      ]
    },
    {
      "cell_type": "code",
      "execution_count": null,
      "metadata": {
        "colab": {
          "base_uri": "https://localhost:8080/"
        },
        "id": "MMRwpuTnPqVE",
        "outputId": "a48c400f-ef94-42b7-b418-854dc7990960"
      },
      "outputs": [
        {
          "output_type": "stream",
          "name": "stdout",
          "text": [
            "[[-0.69296559 -0.01875732  0.73914892 ... -0.20890708  0.14152273\n",
            "  -0.12829827]\n",
            " [-0.69296559  0.06652601  0.01200007 ... -0.20890708 -1.05956657\n",
            "  -0.12829827]\n",
            " [-0.69296559 -0.06139898  0.60312965 ... -0.20890708  1.11514247\n",
            "   7.79433763]\n",
            " ...\n",
            " [-0.69296559 -0.14668231 -0.78251614 ... -0.20890708  1.05765016\n",
            "  -0.12829827]\n",
            " [-0.69296559 -0.06139898  1.31557757 ... -0.20890708 -0.05595085\n",
            "  -0.12829827]\n",
            " [-0.69296559 -0.01875732 -0.45376721 ... -0.20890708  0.56896554\n",
            "  -0.12829827]]\n",
            "[[-0.69296559 -0.18932398 -0.53797642 ... -0.20890708  0.4377331\n",
            "  -0.12829827]\n",
            " [-0.69296559  0.194451   -0.10693948 ... -0.20890708 -1.47076155\n",
            "  -0.12829827]\n",
            " [-0.69296559 -0.16373898  0.15758209 ... -0.20890708  0.79518528\n",
            "  -0.12829827]\n",
            " ...\n",
            " [-0.69296559 -0.01875732  0.64587653 ... -0.20890708  0.47147859\n",
            "  -0.12829827]\n",
            " [-0.69296559 -0.01875732 -0.28125729 ... -0.20890708  0.75769029\n",
            "  -0.12829827]\n",
            " [-0.69296559 -0.01875732  1.17308799 ... -0.20890708  0.15402106\n",
            "  -0.12829827]]\n"
          ]
        }
      ],
      "source": [
        "#feature scaling\n",
        "from sklearn.preprocessing import StandardScaler\n",
        "sc = StandardScaler()\n",
        "X_train = sc.fit_transform(X_train)\n",
        "X_test = sc.transform(X_test)\n",
        "print(X_train)\n",
        "print(X_test)"
      ]
    },
    {
      "cell_type": "code",
      "execution_count": null,
      "metadata": {
        "id": "sj8ZL4Q5qoIB"
      },
      "outputs": [],
      "source": [
        "from sklearn.neighbors import KNeighborsClassifier\n",
        "k=KNeighborsClassifier()\n",
        "k.fit(X_train,y_train)\n",
        "result=k.predict(X_test)\n"
      ]
    },
    {
      "cell_type": "code",
      "execution_count": null,
      "metadata": {
        "colab": {
          "base_uri": "https://localhost:8080/"
        },
        "id": "eCnNzYRtqw8K",
        "outputId": "8f3de3c6-11df-46c7-ee5f-62e7cc15cb22"
      },
      "outputs": [
        {
          "output_type": "stream",
          "name": "stdout",
          "text": [
            "[[22230  6039]\n",
            " [ 1767   716]]\n"
          ]
        }
      ],
      "source": [
        "# Making the Confusion Matrix\n",
        "from sklearn.metrics import confusion_matrix, accuracy_score\n",
        "cm = confusion_matrix(y_test, result)\n",
        "print(cm)"
      ]
    },
    {
      "cell_type": "markdown",
      "metadata": {
        "id": "rvJLqAg1OBXH"
      },
      "source": [
        "0-not default\n",
        "\n",
        "1= default"
      ]
    },
    {
      "cell_type": "code",
      "execution_count": null,
      "metadata": {
        "colab": {
          "base_uri": "https://localhost:8080/"
        },
        "id": "SsNdffJdN6EO",
        "outputId": "da8f3698-2f4d-4c9f-fe43-b93736afc0c0"
      },
      "outputs": [
        {
          "output_type": "execute_result",
          "data": {
            "text/plain": [
              "0    28269\n",
              "1     2483\n",
              "Name: TARGET, dtype: int64"
            ]
          },
          "metadata": {},
          "execution_count": 54
        }
      ],
      "source": [
        "y_test.value_counts()"
      ]
    },
    {
      "cell_type": "code",
      "execution_count": null,
      "metadata": {
        "id": "hM-QTXcmqszw",
        "colab": {
          "base_uri": "https://localhost:8080/"
        },
        "outputId": "62b098d8-0ba2-4a96-cb5c-06b6fa3730e3"
      },
      "outputs": [
        {
          "output_type": "stream",
          "name": "stdout",
          "text": [
            "0.7461628511966701\n"
          ]
        }
      ],
      "source": [
        "print(accuracy_score(y_test,result))"
      ]
    },
    {
      "cell_type": "code",
      "source": [
        "from sklearn.metrics import f1_score\n",
        "f1_score(y_test,result)"
      ],
      "metadata": {
        "colab": {
          "base_uri": "https://localhost:8080/"
        },
        "id": "s0QXbEHxqVDo",
        "outputId": "53f6dcc1-d5a3-43ed-a9c8-8836b260f4e6"
      },
      "execution_count": null,
      "outputs": [
        {
          "output_type": "execute_result",
          "data": {
            "text/plain": [
              "0.15501190733925094"
            ]
          },
          "metadata": {},
          "execution_count": 56
        }
      ]
    },
    {
      "cell_type": "code",
      "source": [
        "from sklearn.metrics import precision_score\n",
        "precision_score(y_test,result)"
      ],
      "metadata": {
        "colab": {
          "base_uri": "https://localhost:8080/"
        },
        "id": "7Byzj25WqQqb",
        "outputId": "2d937d18-7ae8-48b7-caf5-e28089b81900"
      },
      "execution_count": null,
      "outputs": [
        {
          "output_type": "execute_result",
          "data": {
            "text/plain": [
              "0.10599555884529978"
            ]
          },
          "metadata": {},
          "execution_count": 57
        }
      ]
    },
    {
      "cell_type": "code",
      "source": [
        " from sklearn.metrics import recall_score\n",
        " recall_score(y_test,result)"
      ],
      "metadata": {
        "colab": {
          "base_uri": "https://localhost:8080/"
        },
        "id": "coyR-XixqJlK",
        "outputId": "96e85b68-0931-4b04-ab03-de4115bd7ddb"
      },
      "execution_count": null,
      "outputs": [
        {
          "output_type": "execute_result",
          "data": {
            "text/plain": [
              "0.28836085380588"
            ]
          },
          "metadata": {},
          "execution_count": 58
        }
      ]
    },
    {
      "cell_type": "code",
      "execution_count": null,
      "metadata": {
        "id": "89Kztshd9tHw"
      },
      "outputs": [],
      "source": [
        "x=df.drop([\"TARGET\"],axis=1)"
      ]
    },
    {
      "cell_type": "code",
      "execution_count": null,
      "metadata": {
        "id": "7-pfQaNO9vX_",
        "colab": {
          "base_uri": "https://localhost:8080/",
          "height": 505
        },
        "outputId": "690aaf5a-b052-4916-d630-5b3546360ca6"
      },
      "outputs": [
        {
          "output_type": "execute_result",
          "data": {
            "text/plain": [
              "        CODE_GENDER  FLAG_OWN_CAR  FLAG_OWN_REALTY  CNT_CHILDREN  \\\n",
              "0                 1             0                1             0   \n",
              "1                 0             0                0             0   \n",
              "2                 1             1                1             0   \n",
              "3                 0             0                1             0   \n",
              "4                 1             0                1             0   \n",
              "...             ...           ...              ...           ...   \n",
              "307506            1             0                0             0   \n",
              "307507            0             0                1             0   \n",
              "307508            0             0                1             0   \n",
              "307509            0             0                1             0   \n",
              "307510            0             0                0             0   \n",
              "\n",
              "        AMT_INCOME_TOTAL  AMT_CREDIT  AMT_ANNUITY  AMT_GOODS_PRICE  \\\n",
              "0               202500.0    406597.5      24700.5         351000.0   \n",
              "1               270000.0   1293502.5      35698.5        1129500.0   \n",
              "2                67500.0    135000.0       6750.0         135000.0   \n",
              "3               135000.0    312682.5      29686.5         297000.0   \n",
              "4               121500.0    513000.0      21865.5         513000.0   \n",
              "...                  ...         ...          ...              ...   \n",
              "307506          157500.0    254700.0      27558.0         225000.0   \n",
              "307507           72000.0    269550.0      12001.5         225000.0   \n",
              "307508          153000.0    677664.0      29979.0         585000.0   \n",
              "307509          171000.0    370107.0      20205.0         319500.0   \n",
              "307510          157500.0    675000.0      49117.5         675000.0   \n",
              "\n",
              "        NAME_INCOME_TYPE  NAME_EDUCATION_TYPE  ...  FLAG_CONT_MOBILE  \\\n",
              "0                      7                    4  ...                 1   \n",
              "1                      4                    1  ...                 1   \n",
              "2                      7                    4  ...                 1   \n",
              "3                      7                    4  ...                 1   \n",
              "4                      7                    4  ...                 1   \n",
              "...                  ...                  ...  ...               ...   \n",
              "307506                 7                    4  ...                 1   \n",
              "307507                 3                    4  ...                 1   \n",
              "307508                 7                    1  ...                 1   \n",
              "307509                 1                    4  ...                 1   \n",
              "307510                 1                    1  ...                 1   \n",
              "\n",
              "        FLAG_PHONE  CNT_FAM_MEMBERS  HOUR_APPR_PROCESS_START  \\\n",
              "0                1              1.0                       10   \n",
              "1                1              2.0                       11   \n",
              "2                1              1.0                        9   \n",
              "3                0              2.0                       17   \n",
              "4                0              1.0                       11   \n",
              "...            ...              ...                      ...   \n",
              "307506           0              1.0                       15   \n",
              "307507           1              1.0                        8   \n",
              "307508           0              1.0                        9   \n",
              "307509           0              2.0                        9   \n",
              "307510           1              2.0                       20   \n",
              "\n",
              "        REG_REGION_NOT_LIVE_REGION  REG_REGION_NOT_WORK_REGION  \\\n",
              "0                                0                           0   \n",
              "1                                0                           0   \n",
              "2                                0                           0   \n",
              "3                                0                           0   \n",
              "4                                0                           0   \n",
              "...                            ...                         ...   \n",
              "307506                           0                           0   \n",
              "307507                           0                           0   \n",
              "307508                           0                           0   \n",
              "307509                           0                           0   \n",
              "307510                           0                           0   \n",
              "\n",
              "        LIVE_REGION_NOT_WORK_REGION  ORGANIZATION_TYPE  \\\n",
              "0                                 0                  5   \n",
              "1                                 0                 39   \n",
              "2                                 0                 11   \n",
              "3                                 0                  5   \n",
              "4                                 0                 37   \n",
              "...                             ...                ...   \n",
              "307506                            0                 43   \n",
              "307507                            0                 57   \n",
              "307508                            0                 39   \n",
              "307509                            0                  3   \n",
              "307510                            0                  5   \n",
              "\n",
              "        DAYS_LAST_PHONE_CHANGE  credit beauru  \n",
              "0                      -1134.0            0.0  \n",
              "1                       -828.0            0.0  \n",
              "2                       -815.0            0.0  \n",
              "3                       -617.0            0.0  \n",
              "4                      -1106.0            0.0  \n",
              "...                        ...            ...  \n",
              "307506                  -273.0            0.0  \n",
              "307507                     0.0            0.0  \n",
              "307508                 -1909.0            2.0  \n",
              "307509                  -322.0            0.0  \n",
              "307510                  -787.0            2.0  \n",
              "\n",
              "[307511 rows x 27 columns]"
            ],
            "text/html": [
              "\n",
              "  <div id=\"df-9c22f60d-09e6-444e-b4ed-f2b8e62de04c\">\n",
              "    <div class=\"colab-df-container\">\n",
              "      <div>\n",
              "<style scoped>\n",
              "    .dataframe tbody tr th:only-of-type {\n",
              "        vertical-align: middle;\n",
              "    }\n",
              "\n",
              "    .dataframe tbody tr th {\n",
              "        vertical-align: top;\n",
              "    }\n",
              "\n",
              "    .dataframe thead th {\n",
              "        text-align: right;\n",
              "    }\n",
              "</style>\n",
              "<table border=\"1\" class=\"dataframe\">\n",
              "  <thead>\n",
              "    <tr style=\"text-align: right;\">\n",
              "      <th></th>\n",
              "      <th>CODE_GENDER</th>\n",
              "      <th>FLAG_OWN_CAR</th>\n",
              "      <th>FLAG_OWN_REALTY</th>\n",
              "      <th>CNT_CHILDREN</th>\n",
              "      <th>AMT_INCOME_TOTAL</th>\n",
              "      <th>AMT_CREDIT</th>\n",
              "      <th>AMT_ANNUITY</th>\n",
              "      <th>AMT_GOODS_PRICE</th>\n",
              "      <th>NAME_INCOME_TYPE</th>\n",
              "      <th>NAME_EDUCATION_TYPE</th>\n",
              "      <th>...</th>\n",
              "      <th>FLAG_CONT_MOBILE</th>\n",
              "      <th>FLAG_PHONE</th>\n",
              "      <th>CNT_FAM_MEMBERS</th>\n",
              "      <th>HOUR_APPR_PROCESS_START</th>\n",
              "      <th>REG_REGION_NOT_LIVE_REGION</th>\n",
              "      <th>REG_REGION_NOT_WORK_REGION</th>\n",
              "      <th>LIVE_REGION_NOT_WORK_REGION</th>\n",
              "      <th>ORGANIZATION_TYPE</th>\n",
              "      <th>DAYS_LAST_PHONE_CHANGE</th>\n",
              "      <th>credit beauru</th>\n",
              "    </tr>\n",
              "  </thead>\n",
              "  <tbody>\n",
              "    <tr>\n",
              "      <th>0</th>\n",
              "      <td>1</td>\n",
              "      <td>0</td>\n",
              "      <td>1</td>\n",
              "      <td>0</td>\n",
              "      <td>202500.0</td>\n",
              "      <td>406597.5</td>\n",
              "      <td>24700.5</td>\n",
              "      <td>351000.0</td>\n",
              "      <td>7</td>\n",
              "      <td>4</td>\n",
              "      <td>...</td>\n",
              "      <td>1</td>\n",
              "      <td>1</td>\n",
              "      <td>1.0</td>\n",
              "      <td>10</td>\n",
              "      <td>0</td>\n",
              "      <td>0</td>\n",
              "      <td>0</td>\n",
              "      <td>5</td>\n",
              "      <td>-1134.0</td>\n",
              "      <td>0.0</td>\n",
              "    </tr>\n",
              "    <tr>\n",
              "      <th>1</th>\n",
              "      <td>0</td>\n",
              "      <td>0</td>\n",
              "      <td>0</td>\n",
              "      <td>0</td>\n",
              "      <td>270000.0</td>\n",
              "      <td>1293502.5</td>\n",
              "      <td>35698.5</td>\n",
              "      <td>1129500.0</td>\n",
              "      <td>4</td>\n",
              "      <td>1</td>\n",
              "      <td>...</td>\n",
              "      <td>1</td>\n",
              "      <td>1</td>\n",
              "      <td>2.0</td>\n",
              "      <td>11</td>\n",
              "      <td>0</td>\n",
              "      <td>0</td>\n",
              "      <td>0</td>\n",
              "      <td>39</td>\n",
              "      <td>-828.0</td>\n",
              "      <td>0.0</td>\n",
              "    </tr>\n",
              "    <tr>\n",
              "      <th>2</th>\n",
              "      <td>1</td>\n",
              "      <td>1</td>\n",
              "      <td>1</td>\n",
              "      <td>0</td>\n",
              "      <td>67500.0</td>\n",
              "      <td>135000.0</td>\n",
              "      <td>6750.0</td>\n",
              "      <td>135000.0</td>\n",
              "      <td>7</td>\n",
              "      <td>4</td>\n",
              "      <td>...</td>\n",
              "      <td>1</td>\n",
              "      <td>1</td>\n",
              "      <td>1.0</td>\n",
              "      <td>9</td>\n",
              "      <td>0</td>\n",
              "      <td>0</td>\n",
              "      <td>0</td>\n",
              "      <td>11</td>\n",
              "      <td>-815.0</td>\n",
              "      <td>0.0</td>\n",
              "    </tr>\n",
              "    <tr>\n",
              "      <th>3</th>\n",
              "      <td>0</td>\n",
              "      <td>0</td>\n",
              "      <td>1</td>\n",
              "      <td>0</td>\n",
              "      <td>135000.0</td>\n",
              "      <td>312682.5</td>\n",
              "      <td>29686.5</td>\n",
              "      <td>297000.0</td>\n",
              "      <td>7</td>\n",
              "      <td>4</td>\n",
              "      <td>...</td>\n",
              "      <td>1</td>\n",
              "      <td>0</td>\n",
              "      <td>2.0</td>\n",
              "      <td>17</td>\n",
              "      <td>0</td>\n",
              "      <td>0</td>\n",
              "      <td>0</td>\n",
              "      <td>5</td>\n",
              "      <td>-617.0</td>\n",
              "      <td>0.0</td>\n",
              "    </tr>\n",
              "    <tr>\n",
              "      <th>4</th>\n",
              "      <td>1</td>\n",
              "      <td>0</td>\n",
              "      <td>1</td>\n",
              "      <td>0</td>\n",
              "      <td>121500.0</td>\n",
              "      <td>513000.0</td>\n",
              "      <td>21865.5</td>\n",
              "      <td>513000.0</td>\n",
              "      <td>7</td>\n",
              "      <td>4</td>\n",
              "      <td>...</td>\n",
              "      <td>1</td>\n",
              "      <td>0</td>\n",
              "      <td>1.0</td>\n",
              "      <td>11</td>\n",
              "      <td>0</td>\n",
              "      <td>0</td>\n",
              "      <td>0</td>\n",
              "      <td>37</td>\n",
              "      <td>-1106.0</td>\n",
              "      <td>0.0</td>\n",
              "    </tr>\n",
              "    <tr>\n",
              "      <th>...</th>\n",
              "      <td>...</td>\n",
              "      <td>...</td>\n",
              "      <td>...</td>\n",
              "      <td>...</td>\n",
              "      <td>...</td>\n",
              "      <td>...</td>\n",
              "      <td>...</td>\n",
              "      <td>...</td>\n",
              "      <td>...</td>\n",
              "      <td>...</td>\n",
              "      <td>...</td>\n",
              "      <td>...</td>\n",
              "      <td>...</td>\n",
              "      <td>...</td>\n",
              "      <td>...</td>\n",
              "      <td>...</td>\n",
              "      <td>...</td>\n",
              "      <td>...</td>\n",
              "      <td>...</td>\n",
              "      <td>...</td>\n",
              "      <td>...</td>\n",
              "    </tr>\n",
              "    <tr>\n",
              "      <th>307506</th>\n",
              "      <td>1</td>\n",
              "      <td>0</td>\n",
              "      <td>0</td>\n",
              "      <td>0</td>\n",
              "      <td>157500.0</td>\n",
              "      <td>254700.0</td>\n",
              "      <td>27558.0</td>\n",
              "      <td>225000.0</td>\n",
              "      <td>7</td>\n",
              "      <td>4</td>\n",
              "      <td>...</td>\n",
              "      <td>1</td>\n",
              "      <td>0</td>\n",
              "      <td>1.0</td>\n",
              "      <td>15</td>\n",
              "      <td>0</td>\n",
              "      <td>0</td>\n",
              "      <td>0</td>\n",
              "      <td>43</td>\n",
              "      <td>-273.0</td>\n",
              "      <td>0.0</td>\n",
              "    </tr>\n",
              "    <tr>\n",
              "      <th>307507</th>\n",
              "      <td>0</td>\n",
              "      <td>0</td>\n",
              "      <td>1</td>\n",
              "      <td>0</td>\n",
              "      <td>72000.0</td>\n",
              "      <td>269550.0</td>\n",
              "      <td>12001.5</td>\n",
              "      <td>225000.0</td>\n",
              "      <td>3</td>\n",
              "      <td>4</td>\n",
              "      <td>...</td>\n",
              "      <td>1</td>\n",
              "      <td>1</td>\n",
              "      <td>1.0</td>\n",
              "      <td>8</td>\n",
              "      <td>0</td>\n",
              "      <td>0</td>\n",
              "      <td>0</td>\n",
              "      <td>57</td>\n",
              "      <td>0.0</td>\n",
              "      <td>0.0</td>\n",
              "    </tr>\n",
              "    <tr>\n",
              "      <th>307508</th>\n",
              "      <td>0</td>\n",
              "      <td>0</td>\n",
              "      <td>1</td>\n",
              "      <td>0</td>\n",
              "      <td>153000.0</td>\n",
              "      <td>677664.0</td>\n",
              "      <td>29979.0</td>\n",
              "      <td>585000.0</td>\n",
              "      <td>7</td>\n",
              "      <td>1</td>\n",
              "      <td>...</td>\n",
              "      <td>1</td>\n",
              "      <td>0</td>\n",
              "      <td>1.0</td>\n",
              "      <td>9</td>\n",
              "      <td>0</td>\n",
              "      <td>0</td>\n",
              "      <td>0</td>\n",
              "      <td>39</td>\n",
              "      <td>-1909.0</td>\n",
              "      <td>2.0</td>\n",
              "    </tr>\n",
              "    <tr>\n",
              "      <th>307509</th>\n",
              "      <td>0</td>\n",
              "      <td>0</td>\n",
              "      <td>1</td>\n",
              "      <td>0</td>\n",
              "      <td>171000.0</td>\n",
              "      <td>370107.0</td>\n",
              "      <td>20205.0</td>\n",
              "      <td>319500.0</td>\n",
              "      <td>1</td>\n",
              "      <td>4</td>\n",
              "      <td>...</td>\n",
              "      <td>1</td>\n",
              "      <td>0</td>\n",
              "      <td>2.0</td>\n",
              "      <td>9</td>\n",
              "      <td>0</td>\n",
              "      <td>0</td>\n",
              "      <td>0</td>\n",
              "      <td>3</td>\n",
              "      <td>-322.0</td>\n",
              "      <td>0.0</td>\n",
              "    </tr>\n",
              "    <tr>\n",
              "      <th>307510</th>\n",
              "      <td>0</td>\n",
              "      <td>0</td>\n",
              "      <td>0</td>\n",
              "      <td>0</td>\n",
              "      <td>157500.0</td>\n",
              "      <td>675000.0</td>\n",
              "      <td>49117.5</td>\n",
              "      <td>675000.0</td>\n",
              "      <td>1</td>\n",
              "      <td>1</td>\n",
              "      <td>...</td>\n",
              "      <td>1</td>\n",
              "      <td>1</td>\n",
              "      <td>2.0</td>\n",
              "      <td>20</td>\n",
              "      <td>0</td>\n",
              "      <td>0</td>\n",
              "      <td>0</td>\n",
              "      <td>5</td>\n",
              "      <td>-787.0</td>\n",
              "      <td>2.0</td>\n",
              "    </tr>\n",
              "  </tbody>\n",
              "</table>\n",
              "<p>307511 rows × 27 columns</p>\n",
              "</div>\n",
              "      <button class=\"colab-df-convert\" onclick=\"convertToInteractive('df-9c22f60d-09e6-444e-b4ed-f2b8e62de04c')\"\n",
              "              title=\"Convert this dataframe to an interactive table.\"\n",
              "              style=\"display:none;\">\n",
              "        \n",
              "  <svg xmlns=\"http://www.w3.org/2000/svg\" height=\"24px\"viewBox=\"0 0 24 24\"\n",
              "       width=\"24px\">\n",
              "    <path d=\"M0 0h24v24H0V0z\" fill=\"none\"/>\n",
              "    <path d=\"M18.56 5.44l.94 2.06.94-2.06 2.06-.94-2.06-.94-.94-2.06-.94 2.06-2.06.94zm-11 1L8.5 8.5l.94-2.06 2.06-.94-2.06-.94L8.5 2.5l-.94 2.06-2.06.94zm10 10l.94 2.06.94-2.06 2.06-.94-2.06-.94-.94-2.06-.94 2.06-2.06.94z\"/><path d=\"M17.41 7.96l-1.37-1.37c-.4-.4-.92-.59-1.43-.59-.52 0-1.04.2-1.43.59L10.3 9.45l-7.72 7.72c-.78.78-.78 2.05 0 2.83L4 21.41c.39.39.9.59 1.41.59.51 0 1.02-.2 1.41-.59l7.78-7.78 2.81-2.81c.8-.78.8-2.07 0-2.86zM5.41 20L4 18.59l7.72-7.72 1.47 1.35L5.41 20z\"/>\n",
              "  </svg>\n",
              "      </button>\n",
              "      \n",
              "  <style>\n",
              "    .colab-df-container {\n",
              "      display:flex;\n",
              "      flex-wrap:wrap;\n",
              "      gap: 12px;\n",
              "    }\n",
              "\n",
              "    .colab-df-convert {\n",
              "      background-color: #E8F0FE;\n",
              "      border: none;\n",
              "      border-radius: 50%;\n",
              "      cursor: pointer;\n",
              "      display: none;\n",
              "      fill: #1967D2;\n",
              "      height: 32px;\n",
              "      padding: 0 0 0 0;\n",
              "      width: 32px;\n",
              "    }\n",
              "\n",
              "    .colab-df-convert:hover {\n",
              "      background-color: #E2EBFA;\n",
              "      box-shadow: 0px 1px 2px rgba(60, 64, 67, 0.3), 0px 1px 3px 1px rgba(60, 64, 67, 0.15);\n",
              "      fill: #174EA6;\n",
              "    }\n",
              "\n",
              "    [theme=dark] .colab-df-convert {\n",
              "      background-color: #3B4455;\n",
              "      fill: #D2E3FC;\n",
              "    }\n",
              "\n",
              "    [theme=dark] .colab-df-convert:hover {\n",
              "      background-color: #434B5C;\n",
              "      box-shadow: 0px 1px 3px 1px rgba(0, 0, 0, 0.15);\n",
              "      filter: drop-shadow(0px 1px 2px rgba(0, 0, 0, 0.3));\n",
              "      fill: #FFFFFF;\n",
              "    }\n",
              "  </style>\n",
              "\n",
              "      <script>\n",
              "        const buttonEl =\n",
              "          document.querySelector('#df-9c22f60d-09e6-444e-b4ed-f2b8e62de04c button.colab-df-convert');\n",
              "        buttonEl.style.display =\n",
              "          google.colab.kernel.accessAllowed ? 'block' : 'none';\n",
              "\n",
              "        async function convertToInteractive(key) {\n",
              "          const element = document.querySelector('#df-9c22f60d-09e6-444e-b4ed-f2b8e62de04c');\n",
              "          const dataTable =\n",
              "            await google.colab.kernel.invokeFunction('convertToInteractive',\n",
              "                                                     [key], {});\n",
              "          if (!dataTable) return;\n",
              "\n",
              "          const docLinkHtml = 'Like what you see? Visit the ' +\n",
              "            '<a target=\"_blank\" href=https://colab.research.google.com/notebooks/data_table.ipynb>data table notebook</a>'\n",
              "            + ' to learn more about interactive tables.';\n",
              "          element.innerHTML = '';\n",
              "          dataTable['output_type'] = 'display_data';\n",
              "          await google.colab.output.renderOutput(dataTable, element);\n",
              "          const docLink = document.createElement('div');\n",
              "          docLink.innerHTML = docLinkHtml;\n",
              "          element.appendChild(docLink);\n",
              "        }\n",
              "      </script>\n",
              "    </div>\n",
              "  </div>\n",
              "  "
            ]
          },
          "metadata": {},
          "execution_count": 60
        }
      ],
      "source": [
        "x"
      ]
    },
    {
      "cell_type": "code",
      "execution_count": null,
      "metadata": {
        "id": "LQ2kTI7-96Y4"
      },
      "outputs": [],
      "source": [
        "y=df[\"TARGET\"]"
      ]
    },
    {
      "cell_type": "code",
      "execution_count": null,
      "metadata": {
        "id": "R18qSx0H-PVt",
        "colab": {
          "base_uri": "https://localhost:8080/"
        },
        "outputId": "c8c80d68-cd71-4d2b-86ab-f6b93313dea5"
      },
      "outputs": [
        {
          "output_type": "stream",
          "name": "stdout",
          "text": [
            "        CODE_GENDER  FLAG_OWN_CAR  FLAG_OWN_REALTY  CNT_CHILDREN  \\\n",
            "131869            0             1                1             0   \n",
            "307159            0             0                0             0   \n",
            "193974            0             0                1             0   \n",
            "228784            1             0                1             1   \n",
            "171651            0             0                1             0   \n",
            "...             ...           ...              ...           ...   \n",
            "122579            0             0                1             1   \n",
            "304137            0             0                1             0   \n",
            "152315            1             0                0             1   \n",
            "117952            1             1                0             3   \n",
            "305711            0             0                1             2   \n",
            "\n",
            "        AMT_INCOME_TOTAL  AMT_CREDIT  AMT_ANNUITY  AMT_GOODS_PRICE  \\\n",
            "131869          225000.0    900000.0      26316.0         900000.0   \n",
            "307159          247500.0   1800000.0      49500.0        1800000.0   \n",
            "193974           81000.0    225000.0      17905.5         225000.0   \n",
            "228784          135000.0    416052.0      19525.5         292500.0   \n",
            "171651          157500.0   1125000.0      47664.0        1125000.0   \n",
            "...                  ...         ...          ...              ...   \n",
            "122579          270000.0   1172470.5      34411.5         918000.0   \n",
            "304137          180000.0    654498.0      27859.5         585000.0   \n",
            "152315          112500.0    270000.0      13500.0         270000.0   \n",
            "117952          202500.0    204858.0      17653.5         171000.0   \n",
            "305711           81000.0    547344.0      23139.0         472500.0   \n",
            "\n",
            "        NAME_INCOME_TYPE  NAME_EDUCATION_TYPE  ...  FLAG_CONT_MOBILE  \\\n",
            "131869                 1                    1  ...                 1   \n",
            "307159                 7                    4  ...                 1   \n",
            "193974                 7                    1  ...                 1   \n",
            "228784                 7                    1  ...                 1   \n",
            "171651                 7                    4  ...                 1   \n",
            "...                  ...                  ...  ...               ...   \n",
            "122579                 1                    4  ...                 1   \n",
            "304137                 3                    4  ...                 1   \n",
            "152315                 7                    4  ...                 1   \n",
            "117952                 7                    4  ...                 1   \n",
            "305711                 7                    4  ...                 1   \n",
            "\n",
            "        FLAG_PHONE  CNT_FAM_MEMBERS  HOUR_APPR_PROCESS_START  \\\n",
            "131869           0              2.0                        9   \n",
            "307159           1              2.0                       10   \n",
            "193974           0              2.0                       12   \n",
            "228784           1              3.0                       11   \n",
            "171651           0              2.0                        9   \n",
            "...            ...              ...                      ...   \n",
            "122579           0              3.0                       11   \n",
            "304137           0              2.0                       13   \n",
            "152315           1              3.0                       10   \n",
            "117952           0              5.0                       10   \n",
            "305711           0              4.0                        8   \n",
            "\n",
            "        REG_REGION_NOT_LIVE_REGION  REG_REGION_NOT_WORK_REGION  \\\n",
            "131869                           0                           0   \n",
            "307159                           0                           0   \n",
            "193974                           0                           0   \n",
            "228784                           0                           0   \n",
            "171651                           0                           0   \n",
            "...                            ...                         ...   \n",
            "122579                           0                           0   \n",
            "304137                           0                           0   \n",
            "152315                           0                           0   \n",
            "117952                           0                           0   \n",
            "305711                           0                           0   \n",
            "\n",
            "        LIVE_REGION_NOT_WORK_REGION  ORGANIZATION_TYPE  \\\n",
            "131869                            0                  5   \n",
            "307159                            0                  5   \n",
            "193974                            0                 33   \n",
            "228784                            0                  5   \n",
            "171651                            0                 51   \n",
            "...                             ...                ...   \n",
            "122579                            0                  5   \n",
            "304137                            0                 57   \n",
            "152315                            0                  5   \n",
            "117952                            0                 42   \n",
            "305711                            0                 13   \n",
            "\n",
            "        DAYS_LAST_PHONE_CHANGE  credit beauru  \n",
            "131869                     0.0            0.0  \n",
            "307159                  -942.0            1.0  \n",
            "193974                 -2513.0            0.0  \n",
            "228784                     0.0            0.0  \n",
            "171651                 -2221.0            0.0  \n",
            "...                        ...            ...  \n",
            "122579                 -2791.0            1.0  \n",
            "304137                 -1431.0            0.0  \n",
            "152315                 -1535.0            0.0  \n",
            "117952                 -2612.0            0.0  \n",
            "305711                  -521.0            0.0  \n",
            "\n",
            "[276759 rows x 27 columns]\n",
            "131869    0\n",
            "307159    0\n",
            "193974    1\n",
            "228784    0\n",
            "171651    0\n",
            "         ..\n",
            "122579    0\n",
            "304137    0\n",
            "152315    1\n",
            "117952    1\n",
            "305711    0\n",
            "Name: TARGET, Length: 276759, dtype: int64\n",
            "        CODE_GENDER  FLAG_OWN_CAR  FLAG_OWN_REALTY  CNT_CHILDREN  \\\n",
            "42962             0             0                0             0   \n",
            "227307            1             0                1             0   \n",
            "290035            1             1                1             0   \n",
            "239833            1             1                0             1   \n",
            "76427             1             1                1             0   \n",
            "...             ...           ...              ...           ...   \n",
            "229650            0             0                1             0   \n",
            "84532             0             1                1             0   \n",
            "66845             0             0                0             1   \n",
            "144132            1             0                0             1   \n",
            "2978              0             0                0             0   \n",
            "\n",
            "        AMT_INCOME_TOTAL  AMT_CREDIT  AMT_ANNUITY  AMT_GOODS_PRICE  \\\n",
            "42962           117000.0    417024.0      20191.5         360000.0   \n",
            "227307          450000.0    640080.0      31261.5         450000.0   \n",
            "290035          450000.0    900000.0      45000.0         900000.0   \n",
            "239833          360000.0   1125000.0      33025.5        1125000.0   \n",
            "76427           675000.0    835380.0      42840.0         675000.0   \n",
            "...                  ...         ...          ...              ...   \n",
            "229650           90000.0    225000.0      11250.0         225000.0   \n",
            "84532           117000.0    830214.0      24273.0         693000.0   \n",
            "66845           180000.0    103558.5       6615.0          85500.0   \n",
            "144132          180000.0    521280.0      31500.0         450000.0   \n",
            "2978             90000.0    311877.0      16074.0         252000.0   \n",
            "\n",
            "        NAME_INCOME_TYPE  NAME_EDUCATION_TYPE  ...  FLAG_CONT_MOBILE  \\\n",
            "42962                  7                    2  ...                 1   \n",
            "227307                 1                    1  ...                 1   \n",
            "290035                 1                    1  ...                 1   \n",
            "239833                 7                    4  ...                 1   \n",
            "76427                  7                    2  ...                 1   \n",
            "...                  ...                  ...  ...               ...   \n",
            "229650                 1                    4  ...                 1   \n",
            "84532                  3                    4  ...                 1   \n",
            "66845                  7                    4  ...                 1   \n",
            "144132                 1                    1  ...                 1   \n",
            "2978                   7                    4  ...                 1   \n",
            "\n",
            "        FLAG_PHONE  CNT_FAM_MEMBERS  HOUR_APPR_PROCESS_START  \\\n",
            "42962            1              2.0                       13   \n",
            "227307           0              2.0                       13   \n",
            "290035           0              1.0                       14   \n",
            "239833           0              3.0                       15   \n",
            "76427            1              1.0                        7   \n",
            "...            ...              ...                      ...   \n",
            "229650           0              2.0                       15   \n",
            "84532            0              2.0                       15   \n",
            "66845            1              3.0                       18   \n",
            "144132           0              2.0                       12   \n",
            "2978             0              1.0                        7   \n",
            "\n",
            "        REG_REGION_NOT_LIVE_REGION  REG_REGION_NOT_WORK_REGION  \\\n",
            "42962                            0                           0   \n",
            "227307                           0                           0   \n",
            "290035                           0                           0   \n",
            "239833                           0                           1   \n",
            "76427                            0                           0   \n",
            "...                            ...                         ...   \n",
            "229650                           0                           0   \n",
            "84532                            0                           0   \n",
            "66845                            0                           0   \n",
            "144132                           0                           0   \n",
            "2978                             0                           0   \n",
            "\n",
            "        LIVE_REGION_NOT_WORK_REGION  ORGANIZATION_TYPE  \\\n",
            "42962                             0                 30   \n",
            "227307                            0                  5   \n",
            "290035                            0                  7   \n",
            "239833                            1                  5   \n",
            "76427                             0                 55   \n",
            "...                             ...                ...   \n",
            "229650                            0                  5   \n",
            "84532                             0                 57   \n",
            "66845                             0                  5   \n",
            "144132                            0                  8   \n",
            "2978                              0                  5   \n",
            "\n",
            "        DAYS_LAST_PHONE_CHANGE  credit beauru  \n",
            "42962                  -2008.0            0.0  \n",
            "227307                  -728.0            0.0  \n",
            "290035                 -1273.0            2.0  \n",
            "239833                  -984.0            0.0  \n",
            "76427                      0.0            0.0  \n",
            "...                        ...            ...  \n",
            "229650                 -1259.0            1.0  \n",
            "84532                  -1737.0            1.0  \n",
            "66845                  -1467.0            1.0  \n",
            "144132                 -1929.0            0.0  \n",
            "2978                   -1539.0            1.0  \n",
            "\n",
            "[30752 rows x 27 columns]\n",
            "42962     1\n",
            "227307    0\n",
            "290035    0\n",
            "239833    0\n",
            "76427     0\n",
            "         ..\n",
            "229650    0\n",
            "84532     0\n",
            "66845     0\n",
            "144132    0\n",
            "2978      0\n",
            "Name: TARGET, Length: 30752, dtype: int64\n"
          ]
        }
      ],
      "source": [
        "from sklearn.model_selection import train_test_split\n",
        "X_train, X_test, y_train, y_test = train_test_split(x, y,test_size=0.1,random_state=0)\n",
        "print(X_train)\n",
        "print(y_train)\n",
        "print(X_test)\n",
        "print(y_test)"
      ]
    },
    {
      "cell_type": "code",
      "execution_count": null,
      "metadata": {
        "id": "MWnAyjBp-U6a"
      },
      "outputs": [],
      "source": [
        "from imblearn.under_sampling import RandomUnderSampler\n",
        "undersample = RandomUnderSampler(sampling_strategy='majority')"
      ]
    },
    {
      "cell_type": "code",
      "execution_count": null,
      "metadata": {
        "id": "0d_ptU5a-axt"
      },
      "outputs": [],
      "source": [
        "X_train, y_train = undersample.fit_resample(X_train, y_train)"
      ]
    },
    {
      "cell_type": "code",
      "execution_count": null,
      "metadata": {
        "id": "K-_SGPDqQnyi",
        "colab": {
          "base_uri": "https://localhost:8080/"
        },
        "outputId": "2cdffe7d-2cc8-43fd-c2b9-dd7e54225851"
      },
      "outputs": [
        {
          "output_type": "execute_result",
          "data": {
            "text/plain": [
              "0    22380\n",
              "1    22380\n",
              "Name: TARGET, dtype: int64"
            ]
          },
          "metadata": {},
          "execution_count": 65
        }
      ],
      "source": [
        " y_train.value_counts()"
      ]
    },
    {
      "cell_type": "code",
      "execution_count": null,
      "metadata": {
        "id": "d4fZt8lAQuC1",
        "colab": {
          "base_uri": "https://localhost:8080/",
          "height": 411
        },
        "outputId": "581be793-9129-4cb8-929a-4c82335828ae"
      },
      "outputs": [
        {
          "output_type": "stream",
          "name": "stderr",
          "text": [
            "/usr/local/lib/python3.7/dist-packages/seaborn/_decorators.py:43: FutureWarning: Pass the following variable as a keyword arg: x. From version 0.12, the only valid positional argument will be `data`, and passing other arguments without an explicit keyword will result in an error or misinterpretation.\n",
            "  FutureWarning\n"
          ]
        },
        {
          "output_type": "execute_result",
          "data": {
            "text/plain": [
              "<matplotlib.axes._subplots.AxesSubplot at 0x7f159cbc1d50>"
            ]
          },
          "metadata": {},
          "execution_count": 66
        },
        {
          "output_type": "display_data",
          "data": {
            "text/plain": [
              "<Figure size 360x360 with 1 Axes>"
            ],
            "image/png": "[encoded data removed]"
          },
          "metadata": {}
        }
      ],
      "source": [
        "import seaborn as sns\n",
        "sns.countplot(y_train)"
      ]
    },
    {
      "cell_type": "code",
      "execution_count": null,
      "metadata": {
        "id": "ouY9TerA-hmT"
      },
      "outputs": [],
      "source": [
        "from sklearn.ensemble import RandomForestClassifier\n",
        "rf=RandomForestClassifier()\n",
        "rf.fit(X_train,y_train)\n",
        "y_predic=rf.predict(X_test)"
      ]
    },
    {
      "cell_type": "code",
      "execution_count": null,
      "metadata": {
        "id": "RmxTcppH-nGQ",
        "colab": {
          "base_uri": "https://localhost:8080/"
        },
        "outputId": "41b6130d-a6f3-4c92-c21f-03370fe1f09a"
      },
      "outputs": [
        {
          "output_type": "stream",
          "name": "stdout",
          "text": [
            "[[18049 10258]\n",
            " [ 1033  1412]]\n"
          ]
        },
        {
          "output_type": "execute_result",
          "data": {
            "text/plain": [
              "0.6328368886576483"
            ]
          },
          "metadata": {},
          "execution_count": 68
        }
      ],
      "source": [
        "# Making the Confusion Matrix\n",
        "from sklearn.metrics import confusion_matrix, accuracy_score\n",
        "cm = confusion_matrix(y_test, y_predic)\n",
        "print(cm)\n",
        "accuracy_score(y_test, y_predic)"
      ]
    },
    {
      "cell_type": "code",
      "execution_count": null,
      "metadata": {
        "id": "26VWIL23NhLf",
        "colab": {
          "base_uri": "https://localhost:8080/"
        },
        "outputId": "dc9fc9e8-d854-40be-dfd1-1015e823b698"
      },
      "outputs": [
        {
          "output_type": "execute_result",
          "data": {
            "text/plain": [
              "0    28307\n",
              "1     2445\n",
              "Name: TARGET, dtype: int64"
            ]
          },
          "metadata": {},
          "execution_count": 69
        }
      ],
      "source": [
        "y_test.value_counts()"
      ]
    },
    {
      "cell_type": "markdown",
      "metadata": {
        "id": "cXSMkQZ8Nv-Z"
      },
      "source": [
        "0-not default\n",
        "\n",
        "\n",
        "\n",
        "1= default\n"
      ]
    },
    {
      "cell_type": "code",
      "source": [
        "from sklearn.metrics import f1_score\n",
        "f1_score(y_test,y_predic)"
      ],
      "metadata": {
        "colab": {
          "base_uri": "https://localhost:8080/"
        },
        "id": "d6Ea9p-xps6T",
        "outputId": "e5ba5369-5f64-4d27-a3b8-b2e719da8755"
      },
      "execution_count": null,
      "outputs": [
        {
          "output_type": "execute_result",
          "data": {
            "text/plain": [
              "0.20007084661707403"
            ]
          },
          "metadata": {},
          "execution_count": 70
        }
      ]
    },
    {
      "cell_type": "code",
      "source": [
        "from sklearn.metrics import precision_score\n",
        "precision_score(y_test,y_predic)"
      ],
      "metadata": {
        "colab": {
          "base_uri": "https://localhost:8080/"
        },
        "id": "mW16CYg8p00_",
        "outputId": "cb50b6c9-9bc4-48cf-f13e-7a058d8370b5"
      },
      "execution_count": null,
      "outputs": [
        {
          "output_type": "execute_result",
          "data": {
            "text/plain": [
              "0.12099400171379605"
            ]
          },
          "metadata": {},
          "execution_count": 71
        }
      ]
    },
    {
      "cell_type": "code",
      "source": [
        " from sklearn.metrics import recall_score\n",
        " recall_score(y_test,y_predic)"
      ],
      "metadata": {
        "colab": {
          "base_uri": "https://localhost:8080/"
        },
        "id": "v_ePpZuop6MJ",
        "outputId": "bf090b11-2cbd-406b-9fe4-bc69726af17e"
      },
      "execution_count": null,
      "outputs": [
        {
          "output_type": "execute_result",
          "data": {
            "text/plain": [
              "0.5775051124744376"
            ]
          },
          "metadata": {},
          "execution_count": 72
        }
      ]
    }
  ],
  "metadata": {
    "colab": {
      "collapsed_sections": [],
      "name": "loan default classification.ipynb",
      "provenance": []
    },
    "gpuClass": "standard",
    "kernelspec": {
      "display_name": "Python 3",
      "name": "python3"
    },
    "language_info": {
      "name": "python"
    }
  },
  "nbformat": 4,
  "nbformat_minor": 0
}